{
 "cells": [
  {
   "cell_type": "markdown",
   "metadata": {},
   "source": [
    "<a style='color:#FF0000'>\n",
    "## Problem </a>\n",
    "<a style='color:#094FA4'><b>Let's go primal!</b></a>  \n",
    "This week's questions are related to prime numbers.  \n",
    "\n",
    "<b>Main Question</b><br> \n",
    "<pre>How many prime numbers are there between 1 and 100?  \n",
    "<pre>(<i>Prime numbers are defined as any number that is only divisible by itself and 1. For the sake of this problem, assume that 1 is not a prime number and start checking with the number 2.</i>)</pre></pre>\n",
    "<pre>There are many possible approaches so there are no formal instructions per se.  However, for anyone who prefers a more structured approach to these challenges, one possible way to solve follows: \n",
    "<pre><b><i>*SPOILER ALERT!*</i></b>\n",
    "This approach is essentially the same as last week's:\n",
    "<pre>[1] Set up a counter equal to 0.  Create an numerator variable (start at 2).  Create a denominator variable (start at 2). \n",
    "[2] Check if the number in the numerator variable is evenly divisible by the denominator variable.\n",
    "<pre>{A} If it is, then that number is not prime.  No need to test any more denominator variables.\n",
    "{B} If it is not, increase the denominator variable by 1 and check again.  Repeat for every denominator value from the starting one (i.e. 2) to 1 less than the numerator variable.  If the remainder was never 0, then that number is prime (print it out and increase the counter by 1).\n",
    "</pre>Reset the denominator variable, increase the numerator variable by 1, and repeat.  Continue to do so until you get to a numerator variable of 100.\n",
    "</pre><b><i>*END SPOILER*</i></b></pre>\n",
    "</pre><b>Bonus Question 1:</b><br>\n",
    "<pre>In addition to increasing the counter, every time you encounter a prime number print out the character at that index within the following string:\n",
    "<pre>'AE1 Uitsrqp nalkj hufednbaabci2t45678 stunwomnotqryed baEFGaI KLponpqrtrvizyxwwmutseqponm kjihgf!#.?!'\n",
    "</pre></pre><b>Bonus Question2:</b><br> \n",
    "<pre>Count the number of prime numbers less than 1,000,000.\n",
    "<pre>NOTE: This is more challenging than it seems at first glance. 1 million is a very large number, and if you're not careful the code could end up running for a long time. When done correctly, you should be able to get the answer with less than 15 seconds of run time, so be sure to test with smaller numbers first.</pre></pre>"
   ]
  },
  {
   "cell_type": "markdown",
   "metadata": {},
   "source": [
    "<a style='color:#6698FF'>\n",
    "## Starter Code </a>"
   ]
  },
  {
   "cell_type": "code",
   "execution_count": 1,
   "metadata": {
    "collapsed": true
   },
   "outputs": [],
   "source": [
    "import time\n",
    "string_to_search = 'AE1 Uitsrqp nalkj hufednbaabci2t45678 stunwomnotqryed baEFGaI KLponpqrtrvizyxwwmutseqponm kjihgf!#.?!'"
   ]
  },
  {
   "cell_type": "markdown",
   "metadata": {},
   "source": [
    "<a style='color:#6698FF'>\n",
    "## Regular Problem and First Bonus Problem </a>\n",
    "There are many different ways to solve this problem and most are equally effective. For simplicity's sake we will only be describing two solutions.\n",
    "\n",
    "The first solution involves using a *nested loop*, or a *for* loop within another *for* loop. The outer loop will iterate all the numbers you want to check for being prime. The inner loop checks whether or not the number is prime by testing the divisibility of the number by all numbers less than it.\n",
    "\n",
    "After declaring some initial variables, we set up a loop to run from 2 to 101 (remember, *range* does not include the last item). By default, we will assume every number is prime and we must prove that they are not. We will do this by setting up a nother loop to run from 2 to *i*, where *i* is the current number. If *i* is divisible by the given number, we know it is not prime so we set our prime flag to 0 (or false). We can also go ahead and stop the inner loop, because there's no reason to check any more numbers. This will save on runtime.\n",
    "\n",
    "After the inner loop is completed, we check our prime flag. If it is still 1 (true) we can append *i* to our list of prime numbers. (If you are solving the bonus #1, you would also append the character in the search_strin at *i* to your output string.)\n",
    "\n",
    "Once the outer loop has completed, we can count the length of our prime number list to get the number of primes between 2 and 100."
   ]
  },
  {
   "cell_type": "code",
   "execution_count": 2,
   "metadata": {
    "collapsed": false
   },
   "outputs": [
    {
     "name": "stdout",
     "output_type": "stream",
     "text": [
      "There are 25 prime numbers between 1 and 100.\n",
      "[2, 3, 5, 7, 11, 13, 17, 19, 23, 29, 31, 37, 41, 43, 47, 53, 59, 61, 67, 71, 73, 79, 83, 89, 97] \n",
      "\n",
      "Bonus #1: \"1 is a unit not a prime #\" \n",
      "\n",
      "Runtime: 0.00 seconds\n"
     ]
    }
   ],
   "source": [
    "## START TIMER\n",
    "start_time = time.time() \n",
    "\n",
    "## DECLARE VARIABLES\n",
    "primes = []   #Array to store prime numbers\n",
    "output = ''   #Output string from Bonus #1\n",
    "max_num = 100 #Largest number to check for prime\n",
    "\n",
    "## MAIN CODE\n",
    "#Loop through all numbers between 2-100\n",
    "for i in range(2, max_num+1):\n",
    "    \n",
    "    #Assume by default each number is prime\n",
    "    prime = 1\n",
    "    \n",
    "    #For each number i, loop through all numbers less than i\n",
    "    for j in range(2, i):\n",
    "        #If i is divisible by a number\n",
    "        if i%j==0: \n",
    "            prime = 0 #Set prime to 0 (false)\n",
    "            break #Stop the second for loop\n",
    "            \n",
    "    # If at the end of the inner loop, the prime flag is still equal to true\n",
    "    if prime==1:\n",
    "        primes.append(i) #Append it to the list of prime numbers\n",
    "        output+=string_to_search[i] #Append the character at index i to the output string\n",
    "        \n",
    "        \n",
    "## OUTPUT\n",
    "#Print regular problem solution\n",
    "print 'There are %i prime numbers between 1 and %i.' %(len(primes), max_num)\n",
    "print primes, \"\\n\"\n",
    "\n",
    "#Print first bonus solution\n",
    "print \"Bonus #1: \\\"%s\\\" \\n\" %(output)\n",
    "\n",
    "#Print out the runtime for the function\n",
    "print \"Runtime: %0.2f seconds\" %(time.time() - start_time)"
   ]
  },
  {
   "cell_type": "markdown",
   "metadata": {},
   "source": [
    "### Solution #1 Alternate: Functions\n",
    "\n",
    "Another solution is to create a function that checks whether a number is prime and call that function numerous times. The underlying logic is very similar to a nested loop, but it has a few benefits.\n",
    "\n",
    "First, a function allows you to separate parts of your code. In the nested loop approach, all your code needed to be in a single cell to run properly. With a function, you can declare the function in one cell and call it in another. The function is saved in the Python environment so you can call the code repeatedly without having to re-define it. This also helps cuts down on variables you need to manage. All variables in the function exist only within the function itself.\n",
    "\n",
    "Secondly, functions can return a value. Once a value is returned, the function is complete. A function that checks whether a number is prime will return False if a factor is found and cancel any future loop iterations. This accomplishes the same results as a _break_ statement in a for loop, but it is a bit cleaner."
   ]
  },
  {
   "cell_type": "code",
   "execution_count": 3,
   "metadata": {
    "collapsed": true
   },
   "outputs": [],
   "source": [
    "## PRIME NUMBER CHECK FUNCTION\n",
    "def is_prime(num):\n",
    "    #Loop through all numbers less than num\n",
    "    for i in range (2,num):\n",
    "        if num%i == 0: return 0 #If i is a factor of num, return 0 (False)\n",
    "    return 1 #If never returned 0, return 1 (True)"
   ]
  },
  {
   "cell_type": "code",
   "execution_count": 4,
   "metadata": {
    "collapsed": false
   },
   "outputs": [
    {
     "name": "stdout",
     "output_type": "stream",
     "text": [
      "There are 25 prime numbers between 1 and 100.\n",
      "[2, 3, 5, 7, 11, 13, 17, 19, 23, 29, 31, 37, 41, 43, 47, 53, 59, 61, 67, 71, 73, 79, 83, 89, 97] \n",
      "\n",
      "Bonus #1: \"1 is a unit not a prime #\" \n",
      "\n",
      "Runtime: 0.00 seconds\n"
     ]
    }
   ],
   "source": [
    "## START TIMER\n",
    "start_time = time.time() \n",
    "\n",
    "## DECLARE VARIABLES\n",
    "primes = []   #Array to store prime numbers\n",
    "output = ''   #Output string from Bonus #1\n",
    "max_num = 100 #Largest number to check for prime\n",
    "\n",
    "## MAIN CODE\n",
    "#Loop through all numbers\n",
    "for i in range(2, max_num+1):\n",
    "    #If is_prime == 1 (True)\n",
    "    if is_prime(i):\n",
    "        primes.append(i) #Append it to the list of prime numbers\n",
    "        output+=string_to_search[i] #Append the character at index i to the output string\n",
    "       \n",
    "## OUTPUT\n",
    "#Print regular problem solution\n",
    "print 'There are %i prime numbers between 1 and %i.' %(len(primes), max_num)\n",
    "print primes, \"\\n\"\n",
    "\n",
    "#Print first bonus solution\n",
    "print \"Bonus #1: \\\"%s\\\" \\n\" %(output)\n",
    "\n",
    "#Print out the runtime for the function\n",
    "print \"Runtime: %0.2f seconds\" %(time.time() - start_time)"
   ]
  },
  {
   "cell_type": "markdown",
   "metadata": {},
   "source": [
    "<a style='color:#6698FF'>\n",
    "## Second Bonus Problem </a>\n",
    "\n",
    "When we built this puzzle, we already had an optimal solution in mind. However, we received some fantastic submissions that pushed us to think harder about the true best answer. So we decided to show our initial solution for finding the prime numbers less than 1 million, as well as three solutions that further improved upon it.\n",
    "\n",
    "Thanks to everyone who attemped the bonus problems!!"
   ]
  },
  {
   "cell_type": "code",
   "execution_count": 5,
   "metadata": {
    "collapsed": true
   },
   "outputs": [],
   "source": [
    "##STARTER CODE AND LIBRARIES\n",
    "import time\n",
    "import math\n",
    "import numpy\n",
    "\n",
    "max_number = 1000000"
   ]
  },
  {
   "cell_type": "markdown",
   "metadata": {},
   "source": [
    "### Solution #1: Square Roots (Good)\n",
    "As shown in the first part of the problem, finding the list of prime numbers involves (in some way or another) 2 sets of loops to iterate through all the numbers. The run time of this process grows exponentially as you check more numbers. In programming, the performance is said to have worst-case performance of $O(N^2)$ runtime. How can we improve on this?\n",
    "\n",
    "For now, let's assume we cannot avoid the first loop, because we have to check every number at least once. The best runtime we can expect in this scenario is $O(N)$.  So we need to think about shortening the second, inner loop. One way we are wasting a ton of time is by checking whether $n$ is divisible by every number smaller than it. \n",
    "\n",
    "Instead, let's only check if $n$ is divisble by numbers less $\\sqrt{n}$. If a $n$ is divisible by a number greater than $\\sqrt{n}$, then it must also be divisible by a number less than $\\sqrt{n}$. For example, take the number 36, whose square root is 6. 36 is also the product of 2 & 16, 3 & 12, and 4 & 8. All factors of 36 are larger than 6 paired with a factor smaller than 6. This principal holds true with prime numbers as well. If 37 is divisible less than ~6, then there's nothing greater that will be divisible either.\n",
    "\n",
    "When we change to only review numbers less than $\\sqrt{n}$, we cut our runtime from $O(N^2)$ to $O(N * \\sqrt{N})$ or $O(N^{3/2})$. The chart below highlights how substantial this can be on lengthier runs.\n",
    "\n",
    "<br>\n",
    "<img src=\"Challenge 5 - Runtimes.png\">\n",
    "<br>\n",
    "\n",
    "<br>\n",
    "<img src=\"https://github.com/Marek-Sedlacek/Python_Challenges/blob/master/Files/Python%20Challenge%20%235%20-%20Runtimes.PNG\">\n",
    "<br>\n",
    "\n",
    "\n",
    "\n",
    "The solution below is the same as the alternate solution to number 1, only we've replaced the loop in the *is_prime* function to loop over the square root of the given number. The runtime should be between 10-30s depending on processing power."
   ]
  },
  {
   "cell_type": "code",
   "execution_count": 6,
   "metadata": {
    "collapsed": false
   },
   "outputs": [
    {
     "name": "stdout",
     "output_type": "stream",
     "text": [
      "There are 78498 prime numbers between 1 and 1000000.\n",
      "Runtime: 20.84 seconds\n"
     ]
    }
   ],
   "source": [
    "#PRIME NUMBER CHECK FUNCTION\n",
    "def is_prime(n):\n",
    "    #Get square root of current number\n",
    "    sqrt_n = int(math.sqrt(n))\n",
    "    \n",
    "    #Loop from 2 to square root + 1\n",
    "    for i in range (2, sqrt_n+1):\n",
    "        #If divisible by i, return false\n",
    "        if num%i == 0: return 0 \n",
    "        \n",
    "    #Return true if never returned false\n",
    "    return 1\n",
    "\n",
    "\n",
    "#Create start time\n",
    "start_time = time.time() \n",
    "\n",
    "#Start with an empty list\n",
    "primes = [] \n",
    "\n",
    "#Loop for all numbers between 2 and the target number\n",
    "for num in range(2, max_number+1):\n",
    "    if is_prime(num): primes.append(num)\n",
    "     \n",
    "#Print the count of prime numbers\n",
    "print 'There are %i prime numbers between 1 and %i.' %(len(primes), max_number)\n",
    "\n",
    "#Print out the runtime for the function\n",
    "print \"Runtime: %0.2f seconds\" %(time.time() - start_time)"
   ]
  },
  {
   "cell_type": "markdown",
   "metadata": {},
   "source": [
    "### Solution #2: Primes Only (Better)\n",
    "Checking only up to $\\sqrt{n}$ saves us a lot of time, but we are still checking a lot of unnecessary numbers. If a number is not divisible by 2, it can not be divisible by 4, 6, 8, 10, or any other multiple of 2. So checking whether $n$ is divisible by these numbers is a waste of time.\n",
    "\n",
    "In fact, any non-prime number can be broken down into multiples of prime numbers. For example, 48 can be written as 2 x 2 x 2 x 3, and 100 can be written as 5 x 5 x 2 x 2. Therfore, to determine if a number is prime, we only need to check if it is divisible by the prime numbers less than it!\n",
    "\n",
    "We can change our prime check function to take as inputs the number to check and a list of primes less than the number. The function will loop through those primes and if $n$ is not divisible by any it will be declared prime. We are still including a provision to stop the loop for numbers greater than $\\sqrt{n}$.\n",
    "\n",
    "Checking only lower primes reduces our runtime again from $O(N * \\sqrt{N})$ to $O(N * \\log{N})$. The time saved is not as drastic as the change from $O(N^2)$ to $O(N * \\sqrt{N})$, but its still a considerable improvement.\n",
    "\n",
    "<br>\n",
    "<img src=\"Challenge 5 - Runtimes2.png\">\n",
    "<br>\n"
   ]
  },
  {
   "cell_type": "code",
   "execution_count": 7,
   "metadata": {
    "collapsed": false
   },
   "outputs": [
    {
     "name": "stdout",
     "output_type": "stream",
     "text": [
      "There are 78498 prime numbers between 1 and 1000000.\n",
      "Runtime: 2.59 seconds\n"
     ]
    }
   ],
   "source": [
    "#PRIME NUMBER CHECK FUNCTION\n",
    "def is_prime(n, lower_primes):\n",
    "    #If n is 2, return True. Necessary to start the list\n",
    "    if n==2: return 1\n",
    "    \n",
    "    #Loop through the list of lower prime numbers\n",
    "    for i in lower_primes:\n",
    "        if num%i==0: return 0 #If divisible, return False\n",
    "        if i*i > n: return 1  #If i is greater than sqrt(n), return True\n",
    "        \n",
    "    #Return True if never returned False\n",
    "    return 1\n",
    "\n",
    "\n",
    "#Create start time\n",
    "start_time = time.time() \n",
    "\n",
    "#Start with an empty list\n",
    "primes = [] \n",
    "\n",
    "#Loop for all numbers between 2 and the target number\n",
    "for num in range(2, max_number+1):\n",
    "    if is_prime(num, primes): primes.append(num)\n",
    "     \n",
    "#Print the count of prime numbers\n",
    "print 'There are %i prime numbers between 1 and %i.' %(len(primes), max_number)\n",
    "\n",
    "#Print out the runtime for the function\n",
    "print \"Runtime: %0.2f seconds\" %(time.time() - start_time)"
   ]
  },
  {
   "cell_type": "markdown",
   "metadata": {},
   "source": [
    "### Solution #3: Removing Multiples & NumPy (Best)\n",
    "At the beginning of the second bonus, we made the assumption that we had needed to check every number at least once. Based on that assumption, $O(N * \\log{N})$ is probably the best we could do. But it turns out that assumption is not entirely true!\n",
    "\n",
    "In Solution #2, we determined you only needed to check if a number was divisible by primes. What if we thought about it the other way around? For example, once we determine 2 is a prime number, why would we need to check 4, 6, 8, etc? We know they will not be prime because they are multiples of 2.\n",
    "\n",
    "In this solution, we create an array with values from 0 to $n$ and loop through all elements less than $\\sqrt{n}$. We start at 0 even though we know 0 and 1 are not prime, because now our array elements and indices are equal. First, we set elements 0 and 1 to 0, indidcating not prime. When we reach 2, we set every 2nd element starting with position 4 equal to 0. This marks all multiples of 2 as non-prime numbers.\n",
    "\n",
    "We continue looping in this manner. If the position we reach is already set to 0, we continue because it is already non-prime as multiple of some lower number. If the position is not 0, it is a prime number and we want to set all higher multiples of that number to 0. At the very end, we simply remove all 0 value positions from the array and are left with only the prime numbers.\n",
    "\n",
    "The above solutions required only knowledge of prime number algorithms. This solution requires a bit more coding knowledge. NumPy arrays are optimized for rapid numerical calculations, so using a NumPy array instead of a regular list helps make this function more efficient."
   ]
  },
  {
   "cell_type": "code",
   "execution_count": 8,
   "metadata": {
    "collapsed": false
   },
   "outputs": [
    {
     "name": "stdout",
     "output_type": "stream",
     "text": [
      "There are 78498 prime numbers between 1 and 1000000.\n",
      "Runtime: 0.03 seconds\n"
     ]
    }
   ],
   "source": [
    "#PRIME NUMBER CHECK FUNCTION\n",
    "def is_prime(n):\n",
    "    #Numpy array ranging from 0 to n\n",
    "    x = numpy.arange(0,n)\n",
    "    \n",
    "    #Loop from 0 to square root of n + 1\n",
    "    for i in xrange(0, int(math.sqrt(n))+1):\n",
    "        \n",
    "        if i in (0,1): x[i]=0   #If i is 0 or 1, set to False\n",
    "        elif x[i]==0: continue  #If the value at i is already False, continue to next item in the loop\n",
    "        else: x[2*i::i]=0       #Else, set all multiples of i to False\n",
    "    \n",
    "    #Return the numpy array with all False positions removed\n",
    "    return x[numpy.nonzero(x)]\n",
    "\n",
    "\n",
    "#Create start time\n",
    "start_time = time.time() \n",
    "\n",
    "#Call primes function\n",
    "primes = is_prime(max_number)\n",
    "     \n",
    "#Print the count of prime numbers\n",
    "print 'There are %i prime numbers between 1 and %i.' %(len(primes), max_number)\n",
    "\n",
    "#Print out the runtime for the function\n",
    "print \"Runtime: %0.2f seconds\" %(time.time() - start_time)"
   ]
  },
  {
   "cell_type": "markdown",
   "metadata": {},
   "source": [
    "### Solution #4: Removing Multiples & NumPy (Masterful)\n",
    "\n",
    "This week, we have special shoutout to Xabi for his solution. He utilizes a similar approach as in Solution #3, but with a much more efficient algorithm. The difference between 0.03 and 0.01 seconds might not seem like much, but you can see the benefits when you scale up. For 1 billion, Solution #3 takes nearly 1 minute, while Xabi's solution about 11 seconds.\n",
    "\n",
    "**Thank you Xabi!**"
   ]
  },
  {
   "cell_type": "code",
   "execution_count": 9,
   "metadata": {
    "collapsed": false
   },
   "outputs": [
    {
     "name": "stdout",
     "output_type": "stream",
     "text": [
      "78498\n",
      "Runtime: 0.01 seconds\n"
     ]
    }
   ],
   "source": [
    "def primesfrom2to(n):\n",
    "    \"\"\" Input n>=6, Returns a array of primes, 2 <= p < n \"\"\"\n",
    "    sieve = numpy.ones(n/3 + (n%6==2), dtype=numpy.bool)\n",
    "    for i in xrange(1,int(n**0.5)/3+1):\n",
    "        if sieve[i]:\n",
    "            k=3*i+1|1\n",
    "            sieve[       k*k/3     ::2*k] = False\n",
    "            sieve[k*(k-2*(i&1)+4)/3::2*k] = False\n",
    "    return numpy.r_[2,3,((3*numpy.nonzero(sieve)[0][1:]+1)|1)]\n",
    "\n",
    "\n",
    "#Create start time\n",
    "start_time = time.time() \n",
    "\n",
    "#Call primes function\n",
    "primes = primesfrom2to(max_number+1)\n",
    "\n",
    "#Print the count of prime numbers\n",
    "print len(primes)\n",
    "\n",
    "#Print out the runtime for the function\n",
    "print \"Runtime: %0.2f seconds\" %(time.time() - start_time)"
   ]
  },
  {
   "cell_type": "markdown",
   "metadata": {},
   "source": [
    "#### Primes < 1 Billion!"
   ]
  },
  {
   "cell_type": "code",
   "execution_count": 10,
   "metadata": {
    "collapsed": false
   },
   "outputs": [
    {
     "name": "stdout",
     "output_type": "stream",
     "text": [
      "50847534\n",
      "Runtime: 10.85 seconds\n"
     ]
    }
   ],
   "source": [
    "#Create start time\n",
    "start_time = time.time() \n",
    "\n",
    "#Call primes function\n",
    "primes = primesfrom2to(1000000000+1)\n",
    "\n",
    "#Print the count of prime numbers\n",
    "print len(primes)\n",
    "\n",
    "#Print out the runtime for the function\n",
    "print \"Runtime: %0.2f seconds\" %(time.time() - start_time)"
   ]
  },
  {
   "cell_type": "code",
   "execution_count": null,
   "metadata": {
    "collapsed": true
   },
   "outputs": [],
   "source": []
  }
 ],
 "metadata": {
  "anaconda-cloud": {},
  "kernelspec": {
   "display_name": "Python 2",
   "language": "python",
   "name": "python2"
  },
  "language_info": {
   "codemirror_mode": {
    "name": "ipython",
    "version": 2
   },
   "file_extension": ".py",
   "mimetype": "text/x-python",
   "name": "python",
   "nbconvert_exporter": "python",
   "pygments_lexer": "ipython2",
   "version": "2.7.11"
  }
 },
 "nbformat": 4,
 "nbformat_minor": 0
}
