{
 "cells": [
  {
   "cell_type": "markdown",
   "metadata": {},
   "source": [
    "<a style='color:#FF0000'>\n",
    "## Problem </a>\n",
    "\n",
    "For this week’s challenge, find the word buried in this string: 'Eiaemr.v,!Do?;lq:uz0cHm9kp8Ay7bg65jo4txiaF32rn1swc'\n",
    "\n",
    "The characters can be found with a little basic math (please have Python do the math, solving manually is considered cheating since the goal here is to learn the syntax).  The answer to each question is the index location of that letter: \n",
    "\n",
    "\n",
    "    First letter: 3 to the third power\n",
    "    Second letter: the remainder of 100 divided by 26\n",
    "    Third letter: the integer portion of 100 divided by 26\n",
    "    Fourth letter: 4 times 11\n",
    "    Fifth letter: 18 plus 21\n",
    "    Sixth letter: 10 minus 11 \n",
    "    Seventh letter: count the number of lowercase “m” ’s in the original string above\n",
    "\n",
    "**Answer: **\n",
    "\n",
    "Want to skip to the applicable part of the CodeCademy course?  Check out the “Math Operations” section of the first module, the external reference document “Built-In Python Types” (https://docs.python.org/2/library/stdtypes.html) mentioned at the end of the first module, the “Strings” section of the second module, and again the external reference document  “Basic String Operations” (http://www.learnpython.org/en/Basic_String_Operations) mentioned at the end of the second module.   "
   ]
  },
  {
   "cell_type": "code",
   "execution_count": 3,
   "metadata": {
    "collapsed": false
   },
   "outputs": [
    {
     "name": "stdout",
     "output_type": "stream",
     "text": [
      "Eiaemr.v,!Do?;lq:uz0cHm9kp8Ay7bg65jo4txiaF32rn1swc\n"
     ]
    }
   ],
   "source": [
    "#STARTER CODE\n",
    "string = \"Eiaemr.v,!Do?;lq:uz0cHm9kp8Ay7bg65jo4txiaF32rn1swc\"\n",
    "print string"
   ]
  },
  {
   "cell_type": "markdown",
   "metadata": {},
   "source": [
    "<a style='color:#6698FF'>\n",
    "## Detailed Solution </a>"
   ]
  },
  {
   "cell_type": "code",
   "execution_count": 4,
   "metadata": {
    "collapsed": false
   },
   "outputs": [
    {
     "name": "stdout",
     "output_type": "stream",
     "text": [
      "[27, 22, 3, 44, 39, -1, 2]\n",
      "A m e r i c a\n"
     ]
    }
   ],
   "source": [
    "#Array for letter indices\n",
    "letters = []\n",
    "\n",
    "#1: \"**\" is used to calculate exponents\n",
    "letters.append(3**3)\n",
    "\n",
    "#2: \"%\" is the modulus function, which returns the remainder\n",
    "letters.append(100%26)\n",
    "\n",
    "#3: Python determines the type of the output based on the input. Therefore, an integer\n",
    "# divided by an integer will return a integer answer (rounded down). If we wanted a decimal\n",
    "# answer, we would need at least one number in our equation to use floats (100.0/26)\n",
    "letters.append(100/26)\n",
    "\n",
    "#4\n",
    "letters.append(4*11)\n",
    "#5\n",
    "letters.append(18+21)\n",
    "#6\n",
    "letters.append(10-11)\n",
    "#7\n",
    "letters.append(string.count('m'))\n",
    "\n",
    "#Show Indices\n",
    "print letters\n",
    "\n",
    "#Print Answer\n",
    "for i in letters:\n",
    "    print string[i],"
   ]
  },
  {
   "cell_type": "markdown",
   "metadata": {},
   "source": [
    "<a style='color:#6698FF'>\n",
    "## Short Solution </a>\n",
    "\n",
    "Rather than storing all the indices in a list, we can pull the letter immediately and print to screen. It's not as clean to read, but will take up much less space.\n",
    "\n",
    "_Note: the \"\\\" character can be used to break a single command across multiple lines._"
   ]
  },
  {
   "cell_type": "code",
   "execution_count": 9,
   "metadata": {
    "collapsed": false
   },
   "outputs": [
    {
     "name": "stdout",
     "output_type": "stream",
     "text": [
      "America\n"
     ]
    }
   ],
   "source": [
    "print string[3**3]+string[100%26]+string[100/26]+string[4*11]+string[18+21] \\\n",
    "        +string[10-11]+string[string.count('m')]"
   ]
  },
  {
   "cell_type": "code",
   "execution_count": null,
   "metadata": {
    "collapsed": true
   },
   "outputs": [],
   "source": []
  }
 ],
 "metadata": {
  "anaconda-cloud": {},
  "kernelspec": {
   "display_name": "Python [conda root]",
   "language": "python",
   "name": "conda-root-py"
  },
  "language_info": {
   "codemirror_mode": {
    "name": "ipython",
    "version": 2
   },
   "file_extension": ".py",
   "mimetype": "text/x-python",
   "name": "python",
   "nbconvert_exporter": "python",
   "pygments_lexer": "ipython2",
   "version": "2.7.12"
  }
 },
 "nbformat": 4,
 "nbformat_minor": 1
}
