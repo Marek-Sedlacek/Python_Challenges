{
 "cells": [
  {
   "cell_type": "markdown",
   "metadata": {},
   "source": [
    "<a style='color:#FF0000'>\n",
    "## Problem </a>\n",
    "\n",
    "*Our inaugural python challenge is adapted from the \"Basic String Operations\" document (http://www.learnpython.org/en/Basic_String_Operations) found within the external resource section of the recommended CodeCademy course (https://www.codecademy.com/learn/python)*\n",
    "\n",
    "All you have to do is answer a question inspired by Python's namesake.  Simple, right?  The question can be found within the following string: \n",
    "\n",
    "    ab0h?efrsdoable ol!cp-  0en8ti6ia4rg2oazv xayvfrt trr;pu4no lyxj ehsdfind ibt ?at ha,W 0 s8?i6t 4sr2eezutxqtv etrlru pohnytl fjsihiff  dtebah hT.W ! .9?e7es5mo3al1ncy  wrouusso qyeo rmsekiwi  gtueaochYaW\n",
    "\n",
    "Start from the 5th character and take every third character until the end of the string.  Then start at the end of the resulting string and moving backwards pick up every character.\n",
    "\n",
    "Think you have the answer?  **Please direct message me (do not post it here to not spoil the challenge for others) for a small reward!**"
   ]
  },
  {
   "cell_type": "code",
   "execution_count": 1,
   "metadata": {
    "collapsed": false
   },
   "outputs": [
    {
     "name": "stdout",
     "output_type": "stream",
     "text": [
      "ab0h?efrsdoable ol!cp-  0en8ti6ia4rg2oazv xayvfrt trr;pu4no lyxj ehsdfind ibt ?at ha,W 0 s8?i6t 4sr2eezutxqtv etrlru pohnytl fjsihiff  dtebah hT.W ! .9?e7es5mo3al1ncy  wrouusso qyeo rmsekiwi  gtueaochYaW\n"
     ]
    }
   ],
   "source": [
    "#STARTER CODE\n",
    "string = \"ab0h?efrsdoable ol!cp-  0en8ti6ia4rg2oazv xayvfrt trr;pu4no lyxj ehsdfind ibt ?at ha,W 0 s8?i6t 4sr2eezutxqtv etrlru pohnytl fjsihiff  dtebah hT.W ! .9?e7es5mo3al1ncy  wrouusso qyeo rmsekiwi  gtueaochYaW\"\n",
    "print string"
   ]
  },
  {
   "cell_type": "markdown",
   "metadata": {},
   "source": [
    "<a style='color:#6698FF'>\n",
    "## Explanatory Solution </a>\n",
    "\n",
    "The first step to solving the problem is subsetting the string. In Python, a string is a just a list of characters. As such, we can treat it like any other list. To select a subset from a list, you can do the following:\n",
    "    \n",
    "    list[start:end:step]\n",
    "    \n",
    "If left blank, _start_ will default to the first element, _end_ will default to the last, and _step_ will default to 1. For _start_, we will choose element 4 because lists begin at position 0. We can leave _end_ blank because we are going to the end of the string. We set _step_ to 3 because we want every 3rd element."
   ]
  },
  {
   "cell_type": "code",
   "execution_count": 6,
   "metadata": {
    "collapsed": false
   },
   "outputs": [
    {
     "name": "stdout",
     "output_type": "stream",
     "text": [
      "?roloc etirovaf ruoy si tahW ?tseuq ruoy si tahW ?eman ruoy si tahW \n",
      "\n"
     ]
    }
   ],
   "source": [
    "#Choose every 3rd character starting with the 5th character (array element 4). Store in x1 and print\n",
    "x1 = string[4::3] \n",
    "print x1,'\\n'"
   ]
  },
  {
   "cell_type": "markdown",
   "metadata": {},
   "source": [
    "The next step is to reverse the new string. We can use the same subsetting method used above. Because we want the entire string, we will leave _start_ and _end_ blank. We will set the _step_ to -1, indicating that we want every element but starting from the end of the string.\n",
    "\n",
    "With these two steps, we have the solution."
   ]
  },
  {
   "cell_type": "code",
   "execution_count": 10,
   "metadata": {
    "collapsed": false
   },
   "outputs": [
    {
     "name": "stdout",
     "output_type": "stream",
     "text": [
      "What is your name? What is your quest? What is your favorite color?\n"
     ]
    }
   ],
   "source": [
    "#Reverse the string. Store in x2 and print\n",
    "x2 = x1[::-1] \n",
    "print x2 "
   ]
  },
  {
   "cell_type": "markdown",
   "metadata": {},
   "source": [
    "<a style='color:#6698FF'>\n",
    "## Best Solution </a>\n",
    "While breaking the solution into multiple steps is easier for understanding, Python commands can be chained into a single step. With proper commenting, this makes the code much more readable. The following step subsets and reverses the string, then prints it to output. There's no need for creating new variables and the entire code fits in a single line."
   ]
  },
  {
   "cell_type": "code",
   "execution_count": 9,
   "metadata": {
    "collapsed": false
   },
   "outputs": [
    {
     "name": "stdout",
     "output_type": "stream",
     "text": [
      "What is your name? What is your quest? What is your favorite color?\n"
     ]
    }
   ],
   "source": [
    "#Choose every 3rd character starting with 5th position, reverse the string, and print.\n",
    "print string[4::3][::-1]"
   ]
  }
 ],
 "metadata": {
  "kernelspec": {
   "display_name": "Python [conda root]",
   "language": "python",
   "name": "conda-root-py"
  },
  "language_info": {
   "codemirror_mode": {
    "name": "ipython",
    "version": 2
   },
   "file_extension": ".py",
   "mimetype": "text/x-python",
   "name": "python",
   "nbconvert_exporter": "python",
   "pygments_lexer": "ipython2",
   "version": "2.7.12"
  }
 },
 "nbformat": 4,
 "nbformat_minor": 1
}
