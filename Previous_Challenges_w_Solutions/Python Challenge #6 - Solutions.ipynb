{
 "cells": [
  {
   "cell_type": "markdown",
   "metadata": {},
   "source": [
    "<a style='color:#FF0000'>\n",
    "## Problem </a>\n",
    "### Reading Text from an External File\n",
    "\n",
    "Previous challenges have been structured so the data needed to solve the problem is contained in the problem description or starter code. But most of the tasks you do requires importing information from some external file. This week's challenge is the first of a series that will focus on reading information from text and csv files.\n",
    "\n",
    "**<a href=\"https://github.com/Marek-Sedlacek/Python_Challenges/blob/master/Files/Python%20Challenge%20%236%20-%20Encoded.txt\"> Text file for this week's challenge </a>** \n",
    "\n",
    "For this challenge, we have provided a text file with a sentence on each line. To download, click the link, right-click the \"Raw\" button and \"Save Link As\". You could also copy the text to a text editor manually. Once you have the file, you need to:\n",
    " - Read in each line of the file\n",
    " - Select the word from the sentence corresponding to the line number. (So the 1st word from the line 1, the 2nd word from line 2, the 3rd word from line 3, and so on.)\n",
    " - Decode the word by selecting every other letter starting with the second character\n",
    " - Print each word\n",
    "\n",
    "The resulting string is a congratulatory message for your hard work on all the Python puzzles!\n",
    "\n",
    "\n",
    "#### HINTS AND TIPS\n",
    " - The code **open(*filename.txt*).readlines()** will open the text file and store each line as a string in a list.\n",
    " - Python has a string function that will convert a sentence into a list of words. \n",
    " - If you'd like to jump to the applicable sections of the CodeCademy course, check out: \n",
    "    * Module 12 (File Input and Output) \n",
    "    * the 'Basic String Operations' document (http://www.learnpython.org/en/Basic_String_Operations ; seems like this one has been pretty handy so far) \n",
    "    * and Module 5 (Lists and Dictionaries)"
   ]
  },
  {
   "cell_type": "markdown",
   "metadata": {},
   "source": [
    "<a style='color:#6698FF'>\n",
    "## Solution </a>\n",
    "\n",
    "The first step is to read in the file using the *open(filename.txt).readlines()* command. This will read all lines of the file into a list, with each line representing a single element in the list. The *readlines()* command works fine because the file is small and we can easily fit it entirely in memory. Alternatively, you could use the *readline()* command to read in only the next line in the file. A single line will be read each time the method is called.\n",
    "\n",
    "Once the lines of the file have been stored in a list, you can iterate through each line in the list to get the decoded word."
   ]
  },
  {
   "cell_type": "code",
   "execution_count": 2,
   "metadata": {
    "collapsed": false
   },
   "outputs": [
    {
     "name": "stdout",
     "output_type": "stream",
     "text": [
      "You have opened your first file. big deal, do you want a cookie or something?\n"
     ]
    }
   ],
   "source": [
    "#Open the text file\n",
    "file_r = open('Python Challenge #6 - Encoded.txt')\n",
    "\n",
    "#Read all lines into an array lines\n",
    "lines = file_r.readlines()\n",
    "\n",
    "#Counter for line number\n",
    "line_num = 0\n",
    "\n",
    "#For each line in the files\n",
    "for line in lines:\n",
    "    #Split the line into a list of words using space as a delimiter\n",
    "    words = line.split()\n",
    "    \n",
    "    #Choose the word corresponding to the current line number\n",
    "    encoded_word = words[line_num]\n",
    "    \n",
    "    #Select every other letter, beginning with the 2nd character (position 1)\n",
    "    decoded_word = encoded_word[1::2]\n",
    "    \n",
    "    #Print the word\n",
    "    print decoded_word,\n",
    "    \n",
    "    #Increment the line number\n",
    "    line_num += 1"
   ]
  },
  {
   "cell_type": "markdown",
   "metadata": {},
   "source": [
    "#### Abbreviated Solution\n",
    "The code above works fine, but its a bit lengthy. An alternate solution utilizes chaining to minimize the lines of code needed to accomplish the same task.\n",
    "\n",
    "Most of the time we're working with external data,  we'll want to store it locally so we don't need to read it back in each time we want to use the text. For this problem, we are performing a single task, so we don't necessarily need to store the file in a variable. We can include the *readlines()* method in our for loop, so the file is read in when the loop is called and discarded once the loop is completed.\n",
    "\n",
    "We've also introduced another useful method *enumerate()*. Generally, a for loop takes a list of some values and iterates through every item. But sometimes we want a counter to know where we are in the list. *Enumerate()* iterates through the list and returns both the *item* and the *position* of the item in the list.\n",
    "\n",
    "Finally, we chain the split method, word selection, and decoding process in one step. We also immediately print the result rather than storing it in a variable."
   ]
  },
  {
   "cell_type": "code",
   "execution_count": 3,
   "metadata": {
    "collapsed": false
   },
   "outputs": [
    {
     "name": "stdout",
     "output_type": "stream",
     "text": [
      "[(0, 'a'), (1, 'b'), (2, 'c'), (3, 'd')]\n"
     ]
    }
   ],
   "source": [
    "a = ['a','b','c','d']\n",
    "\n",
    "print list(enumerate(a))"
   ]
  },
  {
   "cell_type": "code",
   "execution_count": 94,
   "metadata": {
    "collapsed": false
   },
   "outputs": [
    {
     "name": "stdout",
     "output_type": "stream",
     "text": [
      "You have opened your first file. big deal, do you want a cookie or something?\n"
     ]
    }
   ],
   "source": [
    "#For each line and index (row number) in the file\n",
    "for index, line in enumerate(open('Python Challenge #6 - Encoded.txt').readlines()):\n",
    "    \n",
    "    #Split the line into words, select the corresponding word, select every other letter, then print\n",
    "    print line.split()[index][1::2],"
   ]
  }
 ],
 "metadata": {
  "anaconda-cloud": {},
  "kernelspec": {
   "display_name": "Python [conda root]",
   "language": "python",
   "name": "conda-root-py"
  },
  "language_info": {
   "codemirror_mode": {
    "name": "ipython",
    "version": 2
   },
   "file_extension": ".py",
   "mimetype": "text/x-python",
   "name": "python",
   "nbconvert_exporter": "python",
   "pygments_lexer": "ipython2",
   "version": "2.7.12"
  }
 },
 "nbformat": 4,
 "nbformat_minor": 2
}
