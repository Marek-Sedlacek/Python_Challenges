{
 "cells": [
  {
   "cell_type": "markdown",
   "metadata": {},
   "source": [
    "<a style='color:#094FA4; font-size:25px'><b>Anagrams </b></a>\n",
    "\n",
    "This week's challenge requires you to build a function to find the anagrams of a given word. An anagram is a word with the same letters as another word, but in a different order. For example, _stop_, _pots_, and _post_ are all anagrams of each other.\n",
    "\n",
    "We've provided a file (**words.txt**) which contains approximately all the words in the English langugage. You will need to read in this file and do some basic cleaning, including:\n",
    " * Removing leading and lagging spaces\n",
    " * Setting all letters to lowercase\n",
    " * Keeping only unique words if there are duplicates\n",
    " \n",
    "Once you have done this, write a function that takes as input a single word and returns a list of all anagrams of that word. Be sure not to include the original word in the list! If you need a hint about how to check if two words are anagrams, read about the **<a href=\"https://docs.python.org/2/library/functions.html#sorted\"> sorted() </a>** method in Python.\n",
    "\n",
    "We've also provided a second file (**filler for now**) that has a list of 5 words. Read in the file, call the function on each word, and print the word along with its list of anagrams.\n",
    "\n",
    "\n",
    "### Bonus: Count the total number of words with at least one anagram\n",
    "Call your function on every word in the *words.txt* and return the count of words with at least one anagram. So if two words are anagrams, you would count each as 1.\n",
    "\n",
    "This is a much more computationally intensive task then checking 5 words. The words file contains nearly 300,000 words. Using my initial function would have taken nearly 2.5 days. But that's a faster way! It requires a little bit of algorithmic knowledge and a little bit of Python knowledge, but you can get the count in less than 10 seconds.\n",
    "\n",
    "Be sure to test your function on a small subset of the words first so you don't end up with a runaway program!\n",
    "\n",
    "<br>\n",
    "\n",
    "**SPOLIERS:** The next section will contain some hints, so if you want to tackle the problem without help, feel free to skip ahead.\n",
    "\n",
    "Assumming Arturo has done his job for once, we should have covered dictionaries in a previous challenge. Just to recap, dictionaries are a key-value data structure. Rather than a list, where you have to know the index to find a value, a dictionary stores a collection of values with a similar key that can be referenced by calling that key.\n",
    "\n",
    "Dictionaries are perfect for anagrams because they rely on a similar key-value structure. All anagrams share a common set of words (the key) but a different ordering (the value). By adding a pre-processing step to translate the list of words into a dictionary, you can increase your efficiency greatly."
   ]
  },
  {
   "cell_type": "code",
   "execution_count": null,
   "metadata": {
    "collapsed": true
   },
   "outputs": [],
   "source": []
  },
  {
   "cell_type": "markdown",
   "metadata": {},
   "source": [
    "<a style='color:#6698FF; font-size:25px'><b> Solution </b> </a>\n",
    "\n",
    "The first step is to read in all the words from the _words.txt_ file and store them in a list. We open the file in read mode and for each word, we remove extra whitespace and convert the word to lowercase. Python is case specific, so if we were to compare the word *Pots* to *Stop*, it would not think these two words are anagrams. Converting all words to lowercase ensures all words are comparable.\n",
    "\n",
    "Finally, after removing whitespace and converting to lowercase we might have some duplicate words. There should be very few instances, but its still better to address them. To do this, we can use a Python data structure called a **set**. A set is like a dictionary, in which you have a unique list of keys. The difference is that sets don't have a value component, only the key. They are useful when you want a list of distinct elements, but don't necessarily need additional information paired with those elements.\n",
    "\n",
    "By converting our list to a set then back to a list, we now have an array of unique words."
   ]
  },
  {
   "cell_type": "code",
   "execution_count": 1,
   "metadata": {
    "collapsed": false
   },
   "outputs": [
    {
     "name": "stdout",
     "output_type": "stream",
     "text": [
      "Time to read in data: 0.18s\n"
     ]
    }
   ],
   "source": [
    "import time\n",
    "\n",
    "#Timer\n",
    "start_time = time.time() \n",
    "\n",
    "#List for words\n",
    "words_list = []\n",
    "\n",
    "#Open the file in read mode and loop through each word in the file\n",
    "for word in open('words','r'):\n",
    "    \n",
    "    #Remove leading and lagging whitespace\n",
    "    word_no_whitespace = word.strip()\n",
    "    \n",
    "    #Convert all letters to lowercase\n",
    "    word_lower = word_no_whitespace.lower()\n",
    "    \n",
    "    #Append word to list of words\n",
    "    words_list.append(word_lower)\n",
    "    \n",
    "#Combine duplicate records into a single item\n",
    "words_list = list(set(words_list))\n",
    "\n",
    "#Print time to read in data\n",
    "print \"Time to read in data: %0.2fs\" %(time.time()-start_time)"
   ]
  },
  {
   "cell_type": "markdown",
   "metadata": {},
   "source": [
    "Next, we need a function to check whether a word of our choice has any anagrams in the words list. Two words are anagrams if they have the same leters but in different orders. So to check if two words are anagrams, we need their letters organized in the same way. This is where the _sorted()_ function comes in.\n",
    "\n",
    "_Sorted()_ takes a string as an input and returns a list of its characters sorted in alphabetical order. If two words are anagrams, these lists will be equal.\n",
    "\n",
    "Comparing the lists would give us the answer we want, but it's not the best solution. It would be preferable if we were comparing two strings, not two lists. We can easily convert the list back to a string by using the _''.join()_ function. This will join all elements of a list together with a designated separator. We use an empty string as our separator because we don't want any space between the characters of the sorted word.\n",
    "\n",
    "We can now loop through the list of unique words and compare our sorted word to each sorted word in the list. If it's anagram, we'll append it to an array of anagrams and return the array once the loop is completed."
   ]
  },
  {
   "cell_type": "code",
   "execution_count": 2,
   "metadata": {
    "collapsed": false
   },
   "outputs": [],
   "source": [
    "def anagram(my_word):\n",
    "\n",
    "    #Sort the input word\n",
    "    my_word_sorted_list = sorted(my_word)\n",
    "    \n",
    "    #Join the elements of the sorted word to each other\n",
    "    my_word_sorted = ''.join(my_word_sorted_list)\n",
    "    \n",
    "    #Blank list for anagrams\n",
    "    anagrams = []\n",
    "    \n",
    "    #For each word in the word list\n",
    "    for word in words_list:\n",
    "        #Sort the word\n",
    "        word_sorted = ''.join(sorted(word))\n",
    "        \n",
    "        #If the sorted word equals our sorted input word, append the word to our anagrams list\n",
    "        if word_sorted==my_word_sorted and word<>my_word: anagrams.append(word)\n",
    "            \n",
    "    #Return the list of anagrams\n",
    "    return anagrams"
   ]
  },
  {
   "cell_type": "markdown",
   "metadata": {},
   "source": [
    "Finally, we can test our function. We will read in the words from the _Anagrams.txt_ file and clean the words in a similar fashion as _words.txt_. We then call our anagram function on each word and return the list of anagrams for that word."
   ]
  },
  {
   "cell_type": "code",
   "execution_count": 6,
   "metadata": {
    "collapsed": false
   },
   "outputs": [
    {
     "name": "stdout",
     "output_type": "stream",
     "text": [
      "this: ['sith', 'hist', 'tshi']\n",
      "inelegant: ['legantine', 'eglantine']\n",
      "python: ['phyton']\n",
      "eats: ['east', 'seat', 'ates', 'seta', 'sate']\n",
      "kraken: ['nekkar']\n",
      "\n",
      "Time to find anagrams: 1.99s\n"
     ]
    }
   ],
   "source": [
    "start_time = time.time() #Timer\n",
    "\n",
    "for word in ['this','inelegant','python','eats','kraken']:\n",
    "    #Clean word\n",
    "    word_no_whitespace = word.strip()\n",
    "    word_lower = word_no_whitespace.lower()\n",
    "    \n",
    "    #Print word and anagrams\n",
    "    print word_lower+\": \"+ str(anagram(word_lower))\n",
    "\n",
    "print \"\\nTime to find anagrams: %0.2fs\" %(time.time()-start_time)"
   ]
  },
  {
   "cell_type": "code",
   "execution_count": null,
   "metadata": {
    "collapsed": true
   },
   "outputs": [],
   "source": []
  },
  {
   "cell_type": "markdown",
   "metadata": {
    "collapsed": true
   },
   "source": [
    "## Bonus\n",
    "If you solved the first problem, you should have found the anagrams for the 5 words in somewhere between 5-15 seconds. But the there are over 200 thousand words in the _words.txt_ file. It would take far too long to use our initial algorithm find the total count of anagrams. Another approach (which would work as an alternate solution to the first problem) is to do some additional pre-processing when reading in the list of words so we can store the results in a dictionary, not a list.\n",
    "\n",
    "A dictionary is a store of key-value pairs. For our anagram problem, we can think of the sorted string of letters as our key and all words with those letters in various orders as the values. Instead of creating a list of all possible words when first reading in the file, we could create an anagram dictionary.\n",
    "\n",
    "We can keep most of the same code from the first problem, but we'll add an additional step where we calculate the sorted string for each word. Then, instead of appending the cleaned word to a list, we'll add it to its sorted string key in the dictionary.\n",
    "\n",
    "If its the first time the dictionary has seen this particular key, it will create a new entry with the value being an empty set. Remember, we want to use a _set_ to avoid duplicates. Once we've created the entry, we can append the current word onto the set for the current key.\n",
    "\n",
    "This process will take a bit longer than our previous method of reading in data, but it will save monumental amounts of time later on."
   ]
  },
  {
   "cell_type": "code",
   "execution_count": 7,
   "metadata": {
    "collapsed": false
   },
   "outputs": [
    {
     "name": "stdout",
     "output_type": "stream",
     "text": [
      "Time to read in data: 0.86s\n"
     ]
    }
   ],
   "source": [
    "#Timer\n",
    "start_time = time.time() \n",
    "\n",
    "#Dictionary for words\n",
    "word_dict = {}\n",
    "\n",
    "#Open the file in read mode and loop through each word in the file\n",
    "for word in open('words','r'):\n",
    "    \n",
    "    #Remove leading and lagging whitespace\n",
    "    word_no_whitespace = word.strip()\n",
    "    \n",
    "    #Convert all letters to lowercase\n",
    "    word_lower = word_no_whitespace.lower()\n",
    "    \n",
    "    #Sort the word to determine the key\n",
    "    word_sorted = ''.join(sorted(word_lower))\n",
    "    \n",
    "    #If the sorted string does not exist, create the key and let the value be an empty set\n",
    "    word_dict.setdefault(word_sorted, set())\n",
    "    \n",
    "    #Add the new word to the set at the value of the current key\n",
    "    word_dict[word_sorted].add(word_lower)\n",
    "    \n",
    "\n",
    "#Print time to read in data\n",
    "print \"Time to read in data: %0.2fs\" %(time.time()-start_time)"
   ]
  },
  {
   "cell_type": "markdown",
   "metadata": {},
   "source": [
    "<br>\n",
    "Once we have our dictionary of anagrams, we just need to loop through the dictionary and return the sum of the length of the sets whose length is greater than 1."
   ]
  },
  {
   "cell_type": "code",
   "execution_count": 15,
   "metadata": {
    "collapsed": false
   },
   "outputs": [
    {
     "name": "stdout",
     "output_type": "stream",
     "text": [
      "32890\n",
      "Time to find number anagrams: 0.12s\n"
     ]
    }
   ],
   "source": [
    "#Timer\n",
    "start_time = time.time()\n",
    "\n",
    "#Number of words that are anagrams\n",
    "anagram_count = 0\n",
    "\n",
    "#For every sorted string (key) in the dictionary\n",
    "for sorted_word in word_dict:\n",
    "    #Get the set of words (value)\n",
    "    words = word_dict.get(sorted_word)\n",
    "    \n",
    "    #If the length of the set is greater than 1, we have anagrams. \n",
    "    if len(words)>1: \n",
    "        anagram_count += len(words) #Add the count of the words to the total count\n",
    "        \n",
    "#Print the count of words that are anagrams    \n",
    "print anagram_count\n",
    "\n",
    "print \"Time to find number anagrams: %0.2fs\" %(time.time()-start_time)"
   ]
  },
  {
   "cell_type": "markdown",
   "metadata": {},
   "source": [
    "<br>\n",
    "This method also greatly improves the runtime of the first solution"
   ]
  },
  {
   "cell_type": "code",
   "execution_count": 17,
   "metadata": {
    "collapsed": false
   },
   "outputs": [
    {
     "name": "stdout",
     "output_type": "stream",
     "text": [
      "this: set(['hist', 'sith', 'tshi', 'this'])\n",
      "inelegant: set(['inelegant', 'eglantine', 'legantine'])\n",
      "python: set(['python', 'phyton'])\n",
      "eats: set(['seta', 'eats', 'seat', 'sate', 'ates', 'east'])\n",
      "kraken: set(['nekkar', 'kraken'])\n",
      "\n",
      "Time to find anagrams: 0.00s\n"
     ]
    }
   ],
   "source": [
    "start_time = time.time() #Timer\n",
    "\n",
    "for word in ['this','inelegant','python','eats','kraken']:    \n",
    "    #Clean word\n",
    "    word_no_whitespace = word.strip()\n",
    "    word_lower = word_no_whitespace.lower()\n",
    "    word_sorted = ''.join(sorted(word_lower))\n",
    "    \n",
    "    #Print word and anagrams\n",
    "    print word_lower+\": \"+ str(word_dict[word_sorted])\n",
    "\n",
    "print \"\\nTime to find anagrams: %0.2fs\" %(time.time()-start_time)"
   ]
  },
  {
   "cell_type": "code",
   "execution_count": null,
   "metadata": {
    "collapsed": true
   },
   "outputs": [],
   "source": []
  }
 ],
 "metadata": {
  "anaconda-cloud": {},
  "kernelspec": {
   "display_name": "Python [default]",
   "language": "python",
   "name": "python2"
  },
  "language_info": {
   "codemirror_mode": {
    "name": "ipython",
    "version": 2
   },
   "file_extension": ".py",
   "mimetype": "text/x-python",
   "name": "python",
   "nbconvert_exporter": "python",
   "pygments_lexer": "ipython2",
   "version": "2.7.12"
  }
 },
 "nbformat": 4,
 "nbformat_minor": 2
}
