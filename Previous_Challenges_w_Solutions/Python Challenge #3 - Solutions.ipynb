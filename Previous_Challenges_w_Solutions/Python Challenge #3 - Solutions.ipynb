{
 "cells": [
  {
   "cell_type": "markdown",
   "metadata": {},
   "source": [
    "<a style='color:#FF0000'>\n",
    "## Problem </a>\n",
    "#### Why should we bother to learn Python?\n",
    "\n",
    "To find the answer, we’re going to build off the knowledge we needed to best the first two challenges as well as use Modules 4 and 3 of the CodeCademy course, “Functions” and “Conditionals and Control Flow”, respectively.  (_It can also be solved with loops and instead of the print step we could use arrays, but let’s leave that other functionality for future weeks’ challenges._)  Instructions are a little long this week, but please let us know if any questions (and/or if I messed up the question/instructions again!): \n",
    "\n",
    "The string we’re going to be searching is pretty short: '!SekatcMLDdkslsubpkECjfmruaSJFBicnqwzoIuAngoPxYnHG' \n",
    "\n",
    "\n",
    "To find the letters, we’ll need to create/define a function with parameters a, b, c, and d:\n",
    " - The first letter for our answer can be found at the index that is given by the formula: A to the Bth power, divided by C.  \n",
    " - Print that letter out.  \n",
    " - Next, decrease A by 1, increase B by 1, and multiply C times 2.  \n",
    " - Increase D by 1.  (Very very important)\n",
    "\n",
    "Have the function call itself again unless D is greater than or equal to 10.  When you call the function this time, the values to pass it (into parameters a, b, c, and d) are whatever values are currently in a, b, c, and d (in the same order).\n",
    "\n",
    "Call the function for the very first time.  **The parameters to pass it for this first call are 9, 0, 1, and 1.**\n",
    "\n",
    "\n",
    "Once the program runs read the letters that were printed out to find out why it’ll be good to learn Python."
   ]
  },
  {
   "cell_type": "code",
   "execution_count": 1,
   "metadata": {
    "collapsed": false
   },
   "outputs": [
    {
     "name": "stdout",
     "output_type": "stream",
     "text": [
      "!SekatcMLDdkslsubpkECjfmruaSJFBicnqwzoIuAngoPxYnHG\n"
     ]
    }
   ],
   "source": [
    "#STARTER CODE\n",
    "string = '!SekatcMLDdkslsubpkECjfmruaSJFBicnqwzoIuAngoPxYnHG'\n",
    "print string"
   ]
  },
  {
   "cell_type": "markdown",
   "metadata": {},
   "source": [
    "<a style='color:#6698FF'>\n",
    "## Solution #1: Recursion </a>\n",
    "Tackling the problem literally requires the use of a _recursive function._  A _recursive function_ calls itself within the function while certain conditions are met.\n",
    "\n",
    "When the function is called, the first thing it does is prints the element at the index of the string _A to the Bth power, divided by C._ Then the function checks if d is less than 10. If this is true, the same function will be called again, but with a,b,c, and d update according the details of the problem. This process will repeat until d is greater or equal to 10."
   ]
  },
  {
   "cell_type": "code",
   "execution_count": null,
   "metadata": {
    "collapsed": true
   },
   "outputs": [],
   "source": [
    "##DEFINE FUNCTION\n",
    "def P3(a,b,c,d):\n",
    "    #Print character\n",
    "    print string[(a**b)/c],\n",
    "    \n",
    "    #Call function recursively if d less than 10\n",
    "    if d<10:\n",
    "        #Use updated values for a,b,c,d\n",
    "        return new_func(a-1, b+1, 2*c, d+1)\n",
    "\n",
    "##CALL FUNCTION\n",
    "P3(9, 0, 1, 1)"
   ]
  },
  {
   "cell_type": "markdown",
   "metadata": {},
   "source": [
    "<a style='color:#6698FF'>\n",
    "## Solution #2: While Loops </a>\n",
    "Another way to solve this problem is with a _while_ loop. Similar to recursion, _while_ loops iterate while a certain condition is true. But the loops occur completely within the a single function call, rather than recursively calling the function. Since the problem asks you to have the function call itself unless D is greater than or equal to 10, this is an appropriate solution.\n",
    "\n",
    "Within the function, we create a _while_ loop that will continue as long as D is less than 10. For each loop, the function prints out the element at the index of the string _A to the Bth power, divided by C._ After printing the string, we update the values of a,b,c, and d according to the problem. Finally, we will call the function we created with the input parameters specified.\n",
    "\n",
    "_(Note: When incrementing a variable, Python operators can be written in abbreviated form. **a-=1** is the same as **a = a-1**)_"
   ]
  },
  {
   "cell_type": "code",
   "execution_count": 2,
   "metadata": {
    "collapsed": false
   },
   "outputs": [
    {
     "name": "stdout",
     "output_type": "stream",
     "text": [
      "S a s S u c k S !\n"
     ]
    }
   ],
   "source": [
    "##DEFINE FUNCTION\n",
    "def P3(a, b, c, d):    \n",
    "    #Loop while d is less than 10\n",
    "    while d < 10:\n",
    "        #Print character. If you add a comma at the end, all elements will be printed on the same line.\n",
    "        print string[(a**b)/c],\n",
    "        \n",
    "        #Update a,b,c,d\n",
    "        a-=1\n",
    "        b+=1\n",
    "        c*=2\n",
    "        d+=1\n",
    "        \n",
    "##CALL FUNCTION\n",
    "P3(9,0,1,1)"
   ]
  },
  {
   "cell_type": "markdown",
   "metadata": {},
   "source": [
    "### Solution #1 Alternate: Print Formatting\n",
    "One challenge with printing from a loop is that Python adds a space between each print statement output. One way to combat this is by apending the characters from each loop to an output string, then printing this final string at the end."
   ]
  },
  {
   "cell_type": "code",
   "execution_count": 3,
   "metadata": {
    "collapsed": false
   },
   "outputs": [
    {
     "name": "stdout",
     "output_type": "stream",
     "text": [
      "SasSuckS!\n"
     ]
    }
   ],
   "source": [
    "##DEFINE FUNCTION\n",
    "def P3(a, b, c, d):\n",
    "    #Output string\n",
    "    output = ''\n",
    "    \n",
    "    #Loop while d is less than 10\n",
    "    while d < 10:\n",
    "        #Add character to output string\n",
    "        output += string[(a**b)/c] \n",
    "        \n",
    "        #Update a,b,c,d\n",
    "        a-=1\n",
    "        b+=1\n",
    "        c*=2\n",
    "        d+=1\n",
    "      \n",
    "    #Print the final outut string\n",
    "    print output\n",
    "\n",
    "##CALL FUNCTION\n",
    "P3(9,0,1,1)"
   ]
  }
 ],
 "metadata": {
  "anaconda-cloud": {},
  "kernelspec": {
   "display_name": "Python [conda root]",
   "language": "python",
   "name": "conda-root-py"
  },
  "language_info": {
   "codemirror_mode": {
    "name": "ipython",
    "version": 2
   },
   "file_extension": ".py",
   "mimetype": "text/x-python",
   "name": "python",
   "nbconvert_exporter": "python",
   "pygments_lexer": "ipython2",
   "version": "2.7.12"
  }
 },
 "nbformat": 4,
 "nbformat_minor": 1
}
