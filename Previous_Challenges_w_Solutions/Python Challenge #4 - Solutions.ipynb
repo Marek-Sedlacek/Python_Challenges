{
 "cells": [
  {
   "cell_type": "markdown",
   "metadata": {},
   "source": [
    "<a style='color:#FF0000'>\n",
    "## Problem </a>\n",
    "#### Loops\n",
    "\n",
    "This is the string to search: \n",
    "'AFCrEFGaIcKLMmOaQRSyUnWXY ascdeoU iYkhKsoAqjTuu,wneyArC oHG INi MtOOn!S UVuXYgabidenghpjkomncpq stov' \n",
    "\n",
    "\n",
    "The procedure is very similar to last week’s but with loops (will get the same functionality we got with calling a function recursively):  \n",
    " - Create 3 variables: \n",
    "     - Set i equal to 1, X equal to 100, and Y equal to 0\n",
    " - Set up a loop to run from i to 70 (inclusive).\n",
    " - At the start of the loop, check if i is evenly divisible by 3.   \n",
    "    - If it is, print out the letter at index X.  \n",
    "    - If it is not, check if i is evenly divisible by 2.  \n",
    "    - If it is, print out the letter at index Y.  \n",
    " - Still within the loop (very important!), increase i by 1, decrease X by 1, and increase Y by 1.  \n",
    "\n",
    "<hr>\n",
    "The applicable part of the course is module 8 (Loops) and we once again touch on the modules we’ve covered before (Math Operations section of Module 1, Strings and Console Output [Module 2], and Conditionals and Control Flow [Module 3]).  If after going through the appropriate sections of the course(s) you still want another example of loop syntax, please note that they’re used in the code for this last week’s treat (the “#Convert target string into underscores” section of the Hangman-ish game).  \n",
    "\n",
    "\n",
    "Also, (as always) please collaborate with the other participants and/or don’t hesitate to reach out to Marek or I.  Happy Thanksgiving!  "
   ]
  },
  {
   "cell_type": "code",
   "execution_count": 2,
   "metadata": {
    "collapsed": false
   },
   "outputs": [
    {
     "name": "stdout",
     "output_type": "stream",
     "text": [
      "AFCrEFGaIcKLMmOaQRSyUnWXY ascdeoU iYkhKsoAqjTuu,wneyArC oHG INi MtOOn!S UVuXYgabidenghpjkomncpq stov\n"
     ]
    }
   ],
   "source": [
    "#STARTER CODE\n",
    "string = 'AFCrEFGaIcKLMmOaQRSyUnWXY ascdeoU iYkhKsoAqjTuu,wneyArC oHG INi MtOOn!S UVuXYgabidenghpjkomncpq stov'\n",
    "print string"
   ]
  },
  {
   "cell_type": "markdown",
   "metadata": {},
   "source": [
    "<a style='color:#6698FF'>\n",
    "## Solution </a>\n",
    "\n",
    "For the first solution, we will follow the instructions step by step. First, we need to set the *i, x,* and *y* variables to their starting values. Next, we want to set up a *while* loop. *While* loops repeat a given process as long as a given condition is true. In this case, as long as *i* is less than or equal to 70.\n",
    "\n",
    "Within the while loop, we need two checks for which character to print. The first checks if *i* is divisible by 3, and if so prints the character at index *x*. If and only if this check is false, we then check if *i* is divisible by 2, and if so print the character at index *y*.\n",
    "\n",
    "The last step in the process is to update all the variables. THIS IS VERY IMPORTANT!!! If you do not update the *i* variable, the *while* loop will continue to run indefinitely."
   ]
  },
  {
   "cell_type": "code",
   "execution_count": 7,
   "metadata": {
    "collapsed": false
   },
   "outputs": [
    {
     "name": "stdout",
     "output_type": "stream",
     "text": [
      "F o r   a c c o m p a n y i n g   u s   o n   t h i s   j o u r n e y ,   T H A N K   Y O U !\n"
     ]
    }
   ],
   "source": [
    "#Declare initial variables\n",
    "i = 1\n",
    "x = 100\n",
    "y = 0\n",
    "\n",
    "#While i is less than 70, repeat\n",
    "while i <= 70:\n",
    "    \n",
    "    #If i is divisible by 3, print the letter at index X\n",
    "    if i%3==0: print string[x],\n",
    "        \n",
    "    #If is is divisble by 2, print the letter at index Y\n",
    "    elif i%2==0: print string[y],\n",
    "    \n",
    "    i+=1  #Increase i by 1\n",
    "    x-=1  #Decrease x by 1\n",
    "    y+=1  #Increase y by 1"
   ]
  },
  {
   "cell_type": "markdown",
   "metadata": {},
   "source": [
    "### Alternate Solution: *For* Loops and Shortcuts\n",
    "Though the previous solution works perfectly fine and follows the instructions to the letter, there are ways we can improve the code to be a bit more efficient.\n",
    "\n",
    "First, the *y* variable is not necessary. Notice in the above solution, we increment both *y* and *i* by the same amount with each loop. They will always be the same distance relative to one another. If you want to have fewer variables to track and lines of code to write, simply replace all instances of *y* with *i-1*.\n",
    "\n",
    "Secondly, Python's method of printing a character with each loop adds an undesired space between each letter. Rather than printing at each loop, we can simply append the character to a new string and print the entire text at the end of the process for a bit cleaner result.,\n",
    "\n",
    "Finally, we could use a *for* loop rather than a *while* loop. Though they accomplish the same thing, *for* loops have the conditions built into their definition so they are less likely to run forever by accident. In the code below, we declare a *for* loop to run for all *i* values in a range between 1 and 71, not including 71. We are using a range, but you could use a *for* loop to iterate through any list of values, not necessarily sequential or even numbers."
   ]
  },
  {
   "cell_type": "code",
   "execution_count": 11,
   "metadata": {
    "collapsed": false
   },
   "outputs": [
    {
     "name": "stdout",
     "output_type": "stream",
     "text": [
      "For accompanying us on this journey, THANK YOU!\n"
     ]
    }
   ],
   "source": [
    "#Declare initial variables\n",
    "x = 100\n",
    "output='' #Blank string for storing characters\n",
    "\n",
    "#Loop for all i values between [1,71)\n",
    "for i in range(1,71):\n",
    "    \n",
    "    #If i is divisible by 3, add the letter at index X to the output string\n",
    "    if i%3==0: output += string[x]\n",
    "        \n",
    "    #If is is divisble by 2, add the letter at index i-1 (y) to the output string\n",
    "    elif i%2==0: output += string[i-1]\n",
    "    \n",
    "    x-=1 #Decrease x by 1\n",
    "    \n",
    "#Print the final string\n",
    "print output"
   ]
  },
  {
   "cell_type": "code",
   "execution_count": null,
   "metadata": {
    "collapsed": true
   },
   "outputs": [],
   "source": []
  }
 ],
 "metadata": {
  "anaconda-cloud": {},
  "kernelspec": {
   "display_name": "Python [conda root]",
   "language": "python",
   "name": "conda-root-py"
  },
  "language_info": {
   "codemirror_mode": {
    "name": "ipython",
    "version": 2
   },
   "file_extension": ".py",
   "mimetype": "text/x-python",
   "name": "python",
   "nbconvert_exporter": "python",
   "pygments_lexer": "ipython2",
   "version": "2.7.12"
  }
 },
 "nbformat": 4,
 "nbformat_minor": 1
}
