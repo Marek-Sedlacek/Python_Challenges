{
 "cells": [
  {
   "cell_type": "markdown",
   "metadata": {},
   "source": [
    "<a style='color:#094FA4; font-size:25px'><b>So let it be written. </b></a> <a style='color:#094FA4; font-size:20px'>(So let it be done.) </a> \n",
    "\n",
    "For this week's challenge we're going to continue working with external files.  =0)  \n",
    "\n",
    "There are times where you may want to write to a permanent location such as when \"saving\" progress along the way to allow you to resume at a later time or writing out to a completion log at the end of your program (to allow tracking later) amongst many other uses.  For this week's challenge, we're going to see the differences between writing and appending.  \n",
    "\n",
    " * First download this week's seed text file (from: https://github.com/Marek-Sedlacek/Python_Challenges/blob/master/Files/Python%20Challenge%20%237%20-%20seed.txt), rename it to seed.txt, and place it in your python directory. \n",
    " * Open the seed.txt file using \"r\" as the second parameter. \n",
    "  - Create a numeric variable i set to 1.  \n",
    "  - Create string variables TempString, VarW, and VarA, each set to an empty string ('').  \n",
    "  - Set up a loop to run from 1 to a max of 20 (i.e. 19 times). \n",
    "    - At each pass read in a line from the seed.txt file and store it in variable TempString.  \n",
    "      - If i is an even number: Append the second, fourth, and seventh words of TempString to VarW, adding spaces in between each word.  (Don't forget that the first object in a list is at index 0!) \n",
    "      - If i is an odd number: Append the third word of TempString to VarA.\n",
    "  - Close the seed.txt file.     \n",
    " * Open the seed.txt file using \"w\" as the second parameter.  \n",
    "  - Write the contents of VarW to the seed.txt file.  \n",
    "  - Close the seed.txt file. \n",
    " * Open the seed.txt file using \"a\" as the second parameter.  \n",
    "  - Write the contents of VarA to the seed.txt file.\n",
    "  - Close the seed.txt file. \n",
    " * Externally, open and read the seed.txt file in your favorite text editor.  What do you see?\n",
    "\n",
    "If you find that you need to rerun the code for any reason please note that you'll need to replace the seed.txt file.  As such, you may want to keep a copy with a different name to not have to keep redownloading.  \n",
    "\n",
    "If you'd like to jump to the applicable sections of the CodeCademy course, check out Module 12 (File Input and Output) as well as the additional documentation around \"The <i>open</i> Function\" in the supplemental Python Files I/O document found at:  http://www.tutorialspoint.com/python/python_files_io.htm.  \n"
   ]
  },
  {
   "cell_type": "markdown",
   "metadata": {},
   "source": [
    " "
   ]
  },
  {
   "cell_type": "markdown",
   "metadata": {},
   "source": [
    "<a style='color:#6698FF; font-size:25px'><b>Solution </b></a>\n",
    "\n",
    "The solution to this week's should be fairly straightforward. Opening a file with the 'r' parameter permits reading, opening with the 'w' parameter allows overwriting the current contents, and opening a file with the 'a' parameter allows writing via appending to the current contents.\n",
    "\n",
    "Be sure to check the file first to make sure it contains the right data before running the code."
   ]
  },
  {
   "cell_type": "code",
   "execution_count": 10,
   "metadata": {
    "collapsed": false
   },
   "outputs": [],
   "source": [
    "#STARTER CODE\n",
    "i = 1\n",
    "TempString = ''\n",
    "VarW = '' \n",
    "VarA = '' \n",
    "\n",
    "  \n",
    "#READ FROM INPUT\n",
    "#Open file with 'r' parameter\n",
    "f = open('Python Challenge #7 - seed.txt', 'r')\n",
    "\n",
    "#Loop from 1 to 19\n",
    "for i in range(1,20):\n",
    "    #Read in the next line and split into words\n",
    "    TempString = f.readline().split()\n",
    "    \n",
    "    #If i is an even number: Append the second, fourth, and seventh words of TempString to VarW, \n",
    "    if i%2==0: VarW += TempString[1] + ' ' + TempString[3] + ' ' + TempString[6] + ' '\n",
    "        \n",
    "    #If i is an odd number: Append the third word of TempString to VarA.\n",
    "    else: VarA += TempString[2] + ' '\n",
    "\n",
    "#Close the file\n",
    "f.close()\n",
    "        \n",
    "    \n",
    "#WRITE TO OUTPUT\n",
    "#Open the file with 'w' parameter\n",
    "f = open('Python Challenge #7 - seed.txt','w')\n",
    "#Write VarW to file, with newline character at the end\n",
    "f.write(VarW + '\\n')\n",
    "#Close the file\n",
    "f.close()\n",
    "\n",
    "#Open the file with 'a' parameter\n",
    "f = open('Python Challenge #7 - seed.txt','a')\n",
    "#Write VarA to file, with newline character at the end\n",
    "f.write(VarA + '\\n')\n",
    "#Close the file\n",
    "f.close()"
   ]
  },
  {
   "cell_type": "markdown",
   "metadata": {},
   "source": [
    "You can now open the file and see the new text you've written. It should look like the text below."
   ]
  },
  {
   "cell_type": "code",
   "execution_count": 11,
   "metadata": {
    "collapsed": false
   },
   "outputs": [
    {
     "name": "stdout",
     "output_type": "stream",
     "text": [
      "When you use the W option you overwrite previous versions. This first message is a result of W. The following message is a result of using A: \n",
      "What are you looking forward to most this holiday season? \n"
     ]
    }
   ],
   "source": [
    "for line in open('Python Challenge #7 - seed.txt').readlines():\n",
    "    print line,"
   ]
  },
  {
   "cell_type": "markdown",
   "metadata": {},
   "source": [
    " \n",
    " \n",
    " "
   ]
  },
  {
   "cell_type": "markdown",
   "metadata": {},
   "source": [
    "### Alternate Solution: Output File\n",
    "Though we asked you to overwrite the input file in the problem, generally speaking this is a bad idea. Best case scenario, you have to recreate the input file every time you want to run the code. Worst case, you overwrite your original data and cannot recover it.\n",
    "\n",
    "The alternate solution is to have separate Input and Output files. You don't need to create the Output file beforehand. If it exists, Python will write to it. If it does not, Python will create the file."
   ]
  },
  {
   "cell_type": "code",
   "execution_count": 13,
   "metadata": {
    "collapsed": false
   },
   "outputs": [
    {
     "name": "stdout",
     "output_type": "stream",
     "text": [
      "When you use the W option you overwrite previous versions. This first message is a result of W. The following message is a result of using A: \n",
      "What are you looking forward to most this holiday season? \n"
     ]
    }
   ],
   "source": [
    "#STARTER CODE\n",
    "TempString = ''\n",
    "VarW = '' \n",
    "VarA = '' \n",
    "  \n",
    "#READ FROM INPUT\n",
    "#Loop through all lines in the file, starting with line 2 (index=1)\n",
    "for i, line in enumerate(open('Python Challenge #7 - seed.txt').readlines(), start=1):\n",
    "    #Stop once the loop hits 20\n",
    "    if i>=20:break \n",
    "        \n",
    "    TempString = line.split()\n",
    "    if i%2==0: VarW += TempString[1] + ' ' + TempString[3] + ' ' + TempString[6] + ' '\n",
    "    else: VarA += TempString[2] + ' '\n",
    "f.close()\n",
    "        \n",
    "#WRITE TO OUTPUT\n",
    "open('Output.txt','w').write(VarW + '\\n')\n",
    "open('Output.txt','a').write(VarA + '\\n')\n",
    "\n",
    "#PRINT OUTPUT FILE TEXT\n",
    "for line in open('Output.txt').readlines():\n",
    "    print line,"
   ]
  },
  {
   "cell_type": "code",
   "execution_count": null,
   "metadata": {
    "collapsed": true
   },
   "outputs": [],
   "source": []
  }
 ],
 "metadata": {
  "anaconda-cloud": {},
  "kernelspec": {
   "display_name": "Python [conda root]",
   "language": "python",
   "name": "conda-root-py"
  },
  "language_info": {
   "codemirror_mode": {
    "name": "ipython",
    "version": 2
   },
   "file_extension": ".py",
   "mimetype": "text/x-python",
   "name": "python",
   "nbconvert_exporter": "python",
   "pygments_lexer": "ipython2",
   "version": "2.7.12"
  }
 },
 "nbformat": 4,
 "nbformat_minor": 1
}
