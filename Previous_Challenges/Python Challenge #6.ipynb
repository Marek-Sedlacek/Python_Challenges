{
 "cells": [
  {
   "cell_type": "markdown",
   "metadata": {},
   "source": [
    "<a style='color:#FF0000'>\n",
    "## Problem </a>\n",
    "### Reading Text from an External File\n",
    "\n",
    "Previous challenges have been structured so the data needed to solve the problem is contained in the problem description or starter code. But most of the tasks you do requires importing information from some external file. This week's challenge is the first of a series that will focus on reading information from text and csv files.\n",
    "\n",
    "**<a href=\"https://github.com/Marek-Sedlacek/Python_Challenges/blob/master/Files/Python%20Challenge%20%236%20-%20Encoded.txt\"> Text file for this week's challenge </a>** \n",
    "\n",
    "For this challenge, we have provided a text file with a sentence on each line. To download, click the link, right-click the \"Raw\" button and \"Save Link As\". You could also copy the text to a text editor manually. Once you have the file, you need to:\n",
    " - Read in each line of the file\n",
    " - Select the word from the sentence corresponding to the line number. (So the 1st word from the line 1, the 2nd word from line 2, the 3rd word from line 3, and so on.)\n",
    " - Decode the word by selecting every other letter starting with the second character\n",
    " - Print each word\n",
    "\n",
    "The resulting string is a congratulatory message for your hard work on all the Python puzzles!\n",
    "\n",
    "\n",
    "#### HINTS AND TIPS\n",
    " - The code **open(*filename.txt*).readlines()** will open the text file and store each line as a string in a list.\n",
    " - Python has a string function that will convert a sentence into a list of words"
   ]
  },
  {
   "cell_type": "markdown",
   "metadata": {},
   "source": [
    "<a style='color:#6698FF'>\n",
    "## Solution </a>"
   ]
  },
  {
   "cell_type": "code",
   "execution_count": null,
   "metadata": {
    "collapsed": true
   },
   "outputs": [],
   "source": []
  }
 ],
 "metadata": {
  "anaconda-cloud": {},
  "kernelspec": {
   "display_name": "Python 2",
   "language": "python",
   "name": "python2"
  },
  "language_info": {
   "codemirror_mode": {
    "name": "ipython",
    "version": 2
   },
   "file_extension": ".py",
   "mimetype": "text/x-python",
   "name": "python",
   "nbconvert_exporter": "python",
   "pygments_lexer": "ipython2",
   "version": "2.7.11"
  }
 },
 "nbformat": 4,
 "nbformat_minor": 2
}
