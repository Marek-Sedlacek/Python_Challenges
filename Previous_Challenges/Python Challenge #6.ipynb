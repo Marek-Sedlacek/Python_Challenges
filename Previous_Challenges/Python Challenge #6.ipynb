{
 "cells": [
  {
   "cell_type": "markdown",
   "metadata": {},
   "source": [
    "<a style='color:#FF0000'>\n",
    "## Problem </a>\n",
    "### Reading Text from an External File\n",
    "\n",
    "Previous challenges have been structured so the data needed to solve the problem is contained in the problem description or starter code. But most of the tasks you do requires importing information from some external file. This week's challenge is the first of a series that will focus on reading information from text and csv files.\n",
    "\n",
    "**<a href=\"https://github.com/Marek-Sedlacek/Python_Challenges/blob/master/Previous_Challenges/Python%20Challenge%20%236.txt\"> Google </a>**\n",
    "\n",
    "For this challenge, we have provided a text file with a sentence on each line. You need to:\n",
    " - Read in each line of the file\n",
    " - Select the word from the sentence corresponding to the line number. (So the 1st word from the line 1, the 2nd word from line 2, the 3rd word from line 3, and so on.)\n",
    " - Print each word\n",
    "\n",
    "The resulting string is a congratulatory message for your hard work on all the Python puzzles!\n",
    "\n",
    "\n",
    "#### HINTS AND TIPS\n",
    " - The code **open(*filename.txt*).readlines()** will open the text file and store each line as a string in a list.\n",
    " - Python has a string function that will convert a sentence into a list of words\n",
    "\n",
    "\n",
    "\n",
    "\n",
    "\n",
    "\n",
    "<hr>\n",
    "_NOTE: The **open(filename).readlines()** is not necessarily the best way to work with structured data. However, it is a standard approach that generalizes well to many types of files and worth understanding the basic mechanics. Don't worry if this seems like a complicated way to read data into Python. There are better methods that we will discuss in later challenges!_"
   ]
  },
  {
   "cell_type": "markdown",
   "metadata": {},
   "source": [
    "<a style='color:#6698FF'>\n",
    "## Solution </a>"
   ]
  },
  {
   "cell_type": "code",
   "execution_count": null,
   "metadata": {
    "collapsed": true
   },
   "outputs": [],
   "source": []
  }
 ],
 "metadata": {
  "anaconda-cloud": {},
  "kernelspec": {
   "display_name": "Python [conda root]",
   "language": "python",
   "name": "conda-root-py"
  },
  "language_info": {
   "codemirror_mode": {
    "name": "ipython",
    "version": 2
   },
   "file_extension": ".py",
   "mimetype": "text/x-python",
   "name": "python",
   "nbconvert_exporter": "python",
   "pygments_lexer": "ipython2",
   "version": "2.7.12"
  }
 },
 "nbformat": 4,
 "nbformat_minor": 2
}
