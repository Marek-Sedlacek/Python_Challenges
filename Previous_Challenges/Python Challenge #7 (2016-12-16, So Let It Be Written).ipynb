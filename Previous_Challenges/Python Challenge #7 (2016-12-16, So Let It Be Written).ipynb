{
 "cells": [
  {
   "cell_type": "markdown",
   "metadata": {},
   "source": [
    "<a style='color:#094FA4; font-size:25px'><b>So let it be written. </b></a> <a style='color:#094FA4; font-size:20px'>(So let it be done.) </a> \n",
    "\n",
    "For this week's challenge we're going to continue working with external files.  =0)  \n",
    "\n",
    "There are times where you may want to write to a permanent location such as when \"saving\" progress along the way to allow you to resume at a later time or writing out to a completion log at the end of your program (to allow tracking later) amongst many other uses.  For this week's challenge, we're going to see the differences between writing and appending.  \n",
    "\n",
    " * First download this week's seed text file (from: https://github.com/Marek-Sedlacek/Python_Challenges/blob/master/Files/Python%20Challenge%20%237%20-%20seed.txt), rename it to seed.txt, and place it in your python directory. \n",
    " * Open the seed.txt file using \"r\" as the second parameter. \n",
    "  - Create a numeric variable i set to 1.  \n",
    "  - Create string variables TempString, VarW, and VarA, each set to an empty string ('').  \n",
    "  - Set up a loop to run from 1 to a max of 20 (i.e. 19 times). \n",
    "    - At each pass read in a line from the seed.txt file and store it in variable TempString.  \n",
    "      - If i is an even number: Append the second, fourth, and seventh words of TempString to VarW, adding spaces in between each word.  (Don't forget that the first object in a list is at index 0!) \n",
    "      - If i is an odd number: Append the third word of TempString to VarA.\n",
    "      (If you are not using 'for i in range()' to go through your loop, don't forget to increment i + 1 after each iteration of the loop.)\n",
    "  - Close the seed.txt file.     \n",
    " * Open the seed.txt file using \"w\" as the second parameter.  \n",
    "  - Write the contents of VarW to the seed.txt file.  \n",
    "  - Close the seed.txt file. \n",
    " * Open the seed.txt file using \"a\" as the second parameter.  \n",
    "  - Write the contents of VarA to the seed.txt file.\n",
    "  - Close the seed.txt file. \n",
    " * Externally, open and read the seed.txt file in your favorite text editor.  What do you see?\n",
    "\n",
    "If you find that you need to rerun the code for any reason please note that you'll need to replace the seed.txt file.  As such, you may want to keep a copy with a different name to not have to keep redownloading.  \n",
    "\n",
    "If you'd like to jump to the applicable sections of the CodeCademy course, check out Module 12 (File Input and Output) as well as the additional documentation around \"The <i>open</i> Function\" in the supplemental Python Files I/O document found at:  http://www.tutorialspoint.com/python/python_files_io.htm.  \n"
   ]
  },
  {
   "cell_type": "code",
   "execution_count": null,
   "metadata": {
    "collapsed": true
   },
   "outputs": [],
   "source": [
    "#Starter Code\n",
    "i = 1\n",
    "TempString = ''\n",
    "VarW = '' \n",
    "VarA = '' "
   ]
  }
 ],
 "metadata": {
  "kernelspec": {
   "display_name": "Python [conda root]",
   "language": "python",
   "name": "conda-root-py"
  },
  "language_info": {
   "codemirror_mode": {
    "name": "ipython",
    "version": 2
   },
   "file_extension": ".py",
   "mimetype": "text/x-python",
   "name": "python",
   "nbconvert_exporter": "python",
   "pygments_lexer": "ipython2",
   "version": "2.7.12"
  }
 },
 "nbformat": 4,
 "nbformat_minor": 1
}
