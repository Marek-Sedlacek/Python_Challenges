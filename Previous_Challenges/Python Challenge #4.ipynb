{
 "cells": [
  {
   "cell_type": "markdown",
   "metadata": {},
   "source": [
    "<a style='color:#FF0000'>\n",
    "## Problem </a>\n",
    "#### Loops\n",
    "\n",
    "This is the string to search: \n",
    "'AFCrEFGaIcKLMmOaQRSyUnWXY ascdeoU iYkhKsoAqjTuu,wneyArC oHG INi MtOOn!S UVuXYgabidenghpjkomncpq stov' \n",
    "\n",
    "\n",
    "The procedure is very similar to last week’s but with loops (will get the same functionality we got with calling a function recursively):  \n",
    " - Create 3 variables: \n",
    "     - Set i equal to 1, X equal to 100, and Y equal to 0\n",
    " - Set up a loop to run from i to 70 (inclusive).\n",
    " - At the start of the loop, check if i is evenly divisible by 3.   \n",
    "    - If it is, print out the letter at index X.  \n",
    "    - If it is not, check if i is evenly divisible by 2.  \n",
    "    - If it is, print out the letter at index Y.  \n",
    " - Still within the loop (very important!), increase i by 1, decrease X by 1, and increase Y by 1.  \n",
    "\n",
    "<hr>\n",
    "The applicable part of the course is module 8 (Loops) and we once again touch on the modules we’ve covered before (Math Operations section of Module 1, Strings and Console Output [Module 2], and Conditionals and Control Flow [Module 3]).  If after going through the appropriate sections of the course(s) you still want another example of loop syntax, please note that they’re used in the code for this last week’s treat (the “#Convert target string into underscores” section of the Hangman-ish game).  \n",
    "\n",
    "\n",
    "Also, (as always) please collaborate with the other participants and/or don’t hesitate to reach out to Marek or I.  Happy Thanksgiving!  "
   ]
  },
  {
   "cell_type": "code",
   "execution_count": null,
   "metadata": {
    "collapsed": true
   },
   "outputs": [],
   "source": [
    "#STARTER CODE\n",
    "string = 'AFCrEFGaIcKLMmOaQRSyUnWXY ascdeoU iYkhKsoAqjTuu,wneyArC oHG INi MtOOn!S UVuXYgabidenghpjkomncpq stov'\n",
    "print string"
   ]
  },
  {
   "cell_type": "markdown",
   "metadata": {},
   "source": [
    "<a style='color:#6698FF'>\n",
    "## Solution </a>"
   ]
  },
  {
   "cell_type": "code",
   "execution_count": null,
   "metadata": {
    "collapsed": true
   },
   "outputs": [],
   "source": [
    "### YOUR CODE GOES HERE ###\n"
   ]
  }
 ],
 "metadata": {
  "anaconda-cloud": {},
  "kernelspec": {
   "display_name": "Python [conda root]",
   "language": "python",
   "name": "conda-root-py"
  },
  "language_info": {
   "codemirror_mode": {
    "name": "ipython",
    "version": 2
   },
   "file_extension": ".py",
   "mimetype": "text/x-python",
   "name": "python",
   "nbconvert_exporter": "python",
   "pygments_lexer": "ipython2",
   "version": "2.7.12"
  }
 },
 "nbformat": 4,
 "nbformat_minor": 1
}
