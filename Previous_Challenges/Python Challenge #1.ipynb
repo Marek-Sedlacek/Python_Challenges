{
 "cells": [
  {
   "cell_type": "markdown",
   "metadata": {},
   "source": [
    "<a style='color:#FF0000'>\n",
    "## Problem </a>\n",
    "\n",
    "*Our inaugural python challenge is adapted from the \"Basic String Operations\" document (http://www.learnpython.org/en/Basic_String_Operations) found within the external resource section of the recommended CodeCademy course (https://www.codecademy.com/learn/python)*\n",
    "\n",
    "All you have to do is answer a question inspired by Python's namesake.  Simple, right?  The question can be found within the following string: \n",
    "\n",
    "    ab0h?efrsdoable ol!cp-  0en8ti6ia4rg2oazv xayvfrt trr;pu4no lyxj ehsdfind ibt ?at ha,W 0 s8?i6t 4sr2eezutxqtv etrlru pohnytl fjsihiff  dtebah hT.W ! .9?e7es5mo3al1ncy  wrouusso qyeo rmsekiwi  gtueaochYaW\n",
    "\n",
    "Start from the 5th character and take every third character until the end of the string.  Then start at the end of the resulting string and moving backwards pick up every character.\n",
    "\n",
    "Think you have the answer?  **Please direct message me (do not post it here to not spoil the challenge for others) for a small reward!**"
   ]
  },
  {
   "cell_type": "code",
   "execution_count": 2,
   "metadata": {
    "collapsed": false
   },
   "outputs": [
    {
     "name": "stdout",
     "output_type": "stream",
     "text": [
      "ab0h?efrsdoable ol!cp-  0en8ti6ia4rg2oazv xayvfrt trr;pu4no lyxj ehsdfind ibt ?at ha,W 0 s8?i6t 4sr2eezutxqtv etrlru pohnytl fjsihiff  dtebah hT.W ! .9?e7es5mo3al1ncy  wrouusso qyeo rmsekiwi  gtueaochYaW\n"
     ]
    }
   ],
   "source": [
    "#STARTER CODE\n",
    "string = \"ab0h?efrsdoable ol!cp-  0en8ti6ia4rg2oazv xayvfrt trr;pu4no lyxj ehsdfind ibt ?at ha,W 0 s8?i6t 4sr2eezutxqtv etrlru pohnytl fjsihiff  dtebah hT.W ! .9?e7es5mo3al1ncy  wrouusso qyeo rmsekiwi  gtueaochYaW\"\n",
    "print string"
   ]
  },
  {
   "cell_type": "markdown",
   "metadata": {},
   "source": [
    "<a style='color:#6698FF'>\n",
    "## Solution </a>"
   ]
  },
  {
   "cell_type": "code",
   "execution_count": 1,
   "metadata": {
    "collapsed": false
   },
   "outputs": [],
   "source": [
    "# CODE GOES HERE!\n"
   ]
  }
 ],
 "metadata": {
  "anaconda-cloud": {},
  "kernelspec": {
   "display_name": "Python [conda root]",
   "language": "python",
   "name": "conda-root-py"
  },
  "language_info": {
   "codemirror_mode": {
    "name": "ipython",
    "version": 2
   },
   "file_extension": ".py",
   "mimetype": "text/x-python",
   "name": "python",
   "nbconvert_exporter": "python",
   "pygments_lexer": "ipython2",
   "version": "2.7.12"
  }
 },
 "nbformat": 4,
 "nbformat_minor": 1
}
