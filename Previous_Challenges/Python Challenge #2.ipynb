{
 "cells": [
  {
   "cell_type": "markdown",
   "metadata": {},
   "source": [
    "<a style='color:#FF0000'>\n",
    "## Problem </a>\n",
    "\n",
    "For this week’s challenge, find the word buried in this string: 'Eiaemr.v,!Do?;lq:uz0cHm9kp8Ay7bg65jo4txiaF32rn1swc'\n",
    "\n",
    "The characters can be found with a little basic math (please have Python do the math, solving manually is considered cheating since the goal here is to learn the syntax).  The answer to each question is the index location of that letter: \n",
    "\n",
    "\n",
    "    First letter: 3 to the third power\n",
    "    Second letter: the remainder of 100 divided by 26\n",
    "    Third letter: the integer portion of 100 divided by 26\n",
    "    Fourth letter: 4 times 11\n",
    "    Fifth letter: 18 plus 21\n",
    "    Sixth letter: 10 minus 11 \n",
    "    Seventh letter: count the number of lowercase “m” ’s in the original string above\n",
    "\n",
    "**Answer: **\n",
    "\n",
    "Want to skip to the applicable part of the CodeCademy course?  Check out the “Math Operations” section of the first module, the external reference document “Built-In Python Types” (https://docs.python.org/2/library/stdtypes.html) mentioned at the end of the first module, the “Strings” section of the second module, and again the external reference document  “Basic String Operations” (http://www.learnpython.org/en/Basic_String_Operations) mentioned at the end of the second module.   "
   ]
  },
  {
   "cell_type": "code",
   "execution_count": 3,
   "metadata": {
    "collapsed": false
   },
   "outputs": [
    {
     "name": "stdout",
     "output_type": "stream",
     "text": [
      "Eiaemr.v,!Do?;lq:uz0cHm9kp8Ay7bg65jo4txiaF32rn1swc\n"
     ]
    }
   ],
   "source": [
    "#STARTER CODE\n",
    "string = \"Eiaemr.v,!Do?;lq:uz0cHm9kp8Ay7bg65jo4txiaF32rn1swc\"\n",
    "print string"
   ]
  },
  {
   "cell_type": "markdown",
   "metadata": {},
   "source": [
    "<a style='color:#6698FF'>\n",
    "## Solution </a>"
   ]
  },
  {
   "cell_type": "code",
   "execution_count": 2,
   "metadata": {
    "collapsed": false
   },
   "outputs": [],
   "source": [
    "# CODE GOES HERE!\n",
    "\n"
   ]
  }
 ],
 "metadata": {
  "anaconda-cloud": {},
  "kernelspec": {
   "display_name": "Python [conda root]",
   "language": "python",
   "name": "conda-root-py"
  },
  "language_info": {
   "codemirror_mode": {
    "name": "ipython",
    "version": 2
   },
   "file_extension": ".py",
   "mimetype": "text/x-python",
   "name": "python",
   "nbconvert_exporter": "python",
   "pygments_lexer": "ipython2",
   "version": "2.7.12"
  }
 },
 "nbformat": 4,
 "nbformat_minor": 1
}
