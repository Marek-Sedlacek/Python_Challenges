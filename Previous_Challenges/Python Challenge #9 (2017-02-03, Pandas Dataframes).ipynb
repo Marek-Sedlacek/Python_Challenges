{
 "cells": [
  {
   "cell_type": "markdown",
   "metadata": {},
   "source": [
    "<a style='color:#094FA4; font-size:25px'><b>Pandas Dataframes</b></a>\n",
    "\n",
    "For our inaugural Pandas challenge, we're going to work with a single table.  Please note that for this exercise you'll need to download the \"Panda Feed\" file (at https://github.com/Marek-Sedlacek/Python_Challenges/blob/master/Files/Python%20Challenge%20%239%20-%20Panda%20Feed.csv) and place into your local Python folder.  \n",
    "\n",
    "The goals for this challenge are to populate a pandas dataframe with external data, reference fields within the dataframe by their header, and reference fields by their location. Plus (just because we can) we'll also turn a table sideways! =0D \n",
    "\n",
    "    [1] Import the pandas package.\n",
    "    \n",
    "    [2] Create a new panda dataframe named Table.  Set it equal to the contents of the Panda Feed csv file.  (Read in the \"Panda Feed\" csv file.  The first row [reminder: index 0] contains the column headings, and there are 22 rows of data.) \n",
    "    \n",
    "    [3] Delete the rows where the column titled ID is an odd number.  (Hint: There are certainly other ways of doing this, but FYI that you can set the contents of a pandas dataframe equal to a filtered version of that same pandas dataframe.)\n",
    "    \n",
    "    [4] Transpose the dataframe.  (Hint: As before, you can set the dataframe equal to a transposed copy of itself.) \n",
    "    \n",
    "    [5] Set a variable X equal to 2.  \n",
    "\n",
    "    [6] Have a loop run starting at X until it reaches the number 10 (not inclusive, i.e. run 8 times), incrementing by one after each pass.  For each pass of the loop, print the value  at row X and column X.  (Since we lost our headings when we transposed the data, this is where we're going to have to reference referencing the cells by their location.)  \n",
    "    \n",
    "Write back with the resulting string (let us know if you agree) and don't forget to share your code! \n", 
    "\n", 
    "Also, especially with this section where the 'training materials' aren't structured like the CodeCademy course was, please discuss with your fellow #python channel participants (for those that are new to these exercises/challenges, look for folks with the sweet python magnets at their station) and/or feel free to reach out to Marek and Arturo for hints/debugging.  \n",
    "\n", 
    "On a final unrelated note, we're out of ideas for 'treats'! (and still owe the word search game from challenge #8).  If anyone has any suggestions for simple programs they'd like to see adapted in Python or wants to see  some functions put into practice (maybe to start building out a snippets repository) just drop us a line. :)  Thanks!  \n", 
    "\n" 
   ]
  },
  {
   "cell_type": "code",
   "execution_count": null,
   "metadata": {
    "collapsed": true
   },
   "outputs": [],
   "source": []
  },
  {
   "cell_type": "markdown",
   "metadata": {},
   "source": [
    "<a style='color:#6698FF; font-size:20px'><b> Starter Code </b> </a>"
   ]
  },
  {
   "cell_type": "code",
   "execution_count": null,
   "metadata": {
    "collapsed": true
   },
   "outputs": [],
   "source": []
  }
 ],
 "metadata": {
  "anaconda-cloud": {},
  "kernelspec": {
   "display_name": "Python [default]",
   "language": "python",
   "name": "python2"
  },
  "language_info": {
   "codemirror_mode": {
    "name": "ipython",
    "version": 2
   },
   "file_extension": ".py",
   "mimetype": "text/x-python",
   "name": "python",
   "nbconvert_exporter": "python",
   "pygments_lexer": "ipython2",
   "version": "2.7.12"
  }
 },
 "nbformat": 4,
 "nbformat_minor": 2
}
