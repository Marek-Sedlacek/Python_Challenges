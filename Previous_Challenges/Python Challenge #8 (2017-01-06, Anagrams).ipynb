{
 "cells": [
  {
   "cell_type": "markdown",
   "metadata": {},
   "source": [
    "<a style='color:#094FA4; font-size:25px'><b>Anagrams </b></a>\n",
    "\n",
    "This week's challenge requires you to build a function to find the anagrams of a given word. An anagram is a word with the same letters as another word, but in a different order. For example, _stop_, _pots_, and _post_ are all anagrams of each other.\n",
    "\n",
    "We've provided a file (**words.txt**) which contains approximately all the words in the English langugage. You will need to read in this file and do some basic cleaning, including:\n",
    " * Removing leading and lagging spaces\n",
    " * Setting all letters to lowercase\n",
    " * Keeping only unique words\n",
    " \n",
    "Once you have done this, write a function that takes as input a single word and returns a list of all anagrams of that word. Be sure not to include the original word in the list! If you need a hint about how to check if two words are anagrams, read about the **<a href=\"https://docs.python.org/2/library/functions.html#sorted\"> sorted() </a>** method in Python.\n",
    "\n",
    "We've also provided a second file (**filler for now**) that has a list of 5 words. Read in the file, call the function on each word, and print the word along with its list of anagrams.\n",
    "\n",
    "\n",
    "### Bonus: Count the total number of words with at least one anagram\n",
    "Call your function on every word in the *words.txt* and return the count of words with at least one anagram. So if two words are anagrams, you would count each as 1.\n",
    "\n",
    "This is a much more computationally intensive task then checking 5 words. The words file contains nearly 300,000 words. Using my initial function would have taken nearly 2.5 days. But that's a faster way! It requires a little bit of algorithmic knowledge and a little bit of Python knowledge, but you can get the count in less than 10 seconds.\n",
    "\n",
    "Be sure to test your function on a small subset of the words first so you don't end up with a runaway program!\n",
    "\n",
    "<br>\n",
    "\n",
    "**SPOILERS:** The next section will contain some hints, so if you want to tackle the problem without help, feel free to skip ahead.\n",
    "\n",
    "Assuming Arturo has done his job for once, we should have covered dictionaries in a previous challenge. Just to recap, dictionaries are a key-value data structure. Rather than a list, where you have to know the index to find a value, a dictionary stores a collection of values with a similar key that can be referenced by calling that key.\n",
    "\n",
    "Dictionaries are perfect for anagrams because they rely on a similar key-value structure. All anagrams share a common set of words (the key) but a different ordering (the value). By adding a pre-processing step to translate the list of words into a dictionary, you can increase your efficiency greatly."
   ]
  },
  {
   "cell_type": "code",
   "execution_count": null,
   "metadata": {
    "collapsed": true
   },
   "outputs": [],
   "source": []
  },
  {
   "cell_type": "markdown",
   "metadata": {},
   "source": [
    "<a style='color:#6698FF; font-size:20px'><b> Starter Code </b> </a>"
   ]
  },
  {
   "cell_type": "code",
   "execution_count": null,
   "metadata": {
    "collapsed": true
   },
   "outputs": [],
   "source": []
  }
 ],
 "metadata": {
  "anaconda-cloud": {},
  "kernelspec": {
   "display_name": "Python [default]",
   "language": "python",
   "name": "python2"
  },
  "language_info": {
   "codemirror_mode": {
    "name": "ipython",
    "version": 2
   },
   "file_extension": ".py",
   "mimetype": "text/x-python",
   "name": "python",
   "nbconvert_exporter": "python",
   "pygments_lexer": "ipython2",
   "version": "2.7.12"
  }
 },
 "nbformat": 4,
 "nbformat_minor": 2
}
