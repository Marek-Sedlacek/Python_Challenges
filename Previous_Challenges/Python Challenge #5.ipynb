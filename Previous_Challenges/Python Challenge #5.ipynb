{
 "cells": [
  {
   "cell_type": "markdown",
   "metadata": {},
   "source": [
    "<a style='color:#094FA4'><b>Let's get Mathy!</b></a>  \n",
    "This week's questions are related to prime numbers.  \n",
    "\n",
    "<b>Main Question</b><br> \n",
    "<pre>How many prime numbers are there between 1 and 100?  \n",
    "<pre>(<i>Prime numbers are defined as any number that is only divisible by itself and 1. For the sake of this problem, assume that 1 is not a prime number and start checking with the number 2.</i>)</pre></pre>\n",
    "<pre>There are many possible approaches.  One such approach follows: \n",
    "<pre><b><i>*SPOILER ALERT!*</i></b>\n",
    "<pre>[1] Set up a counter equal to 0.  Create an numerator variable (start at 2).  Create a denominator variable (start at 2). \n",
    "[2] Check if the number in the numerator variable is evenly divisible by the denominator variable.\n",
    "<pre>{A} If it is, then that number is not prime.  No need to test any more denominator variables.\n",
    "{B} If it is not, increase the denominator variable by 1 and check again.  Repeat for every denominator value from the starting one (i.e. 2) to 1 less than the numerator variable.  If the remainder was never 0, then that number is prime!\n",
    "</pre>Reset the denominator variable, increase the numerator variable by 1, and repeat.  Continue to do so until you get to a numerator variable of 100.\n",
    "</pre><b><i>*END SPOILER*</i></b></pre>\n",
    "</pre><b>Bonus Question 1:</b><br>\n",
    "<pre>In addition to increasing the counter, every time you encounter a prime number print out the character at that index within the following string:\n",
    "<pre>'AE1 Uitsrqp nalkj hufednbaabci2t45678 stunwomnotqryed baEFGaI KLponpqrtrvizyxwwmutseqponm kjihgf!#.?!'\n",
    "</pre></pre><b>Bonus Question2:</b><br> \n",
    "<pre>Count the number of prime numbers less than 1,000,000.\n",
    "<pre>NOTE: This is more challenging than it seems at first glance. 1 million is a very large number, and if you're not careful the code could end up running for a long time. When done correctly, you should be able to get the answer with less than 15 seconds of run time, so be sure to test with smaller numbers first.</pre></pre>"
   ]
  },
  {
   "cell_type": "markdown",
   "metadata": {},
   "source": [
    "<a style='color:#6698FF'>\n",
    "## Starter Code </a>\n",
    "Because this week's challenge is a bit trickier, we are providing some starting code for you to work with (if you so want! Feel free to build it your own way!) "
   ]
  },
  {
   "cell_type": "markdown",
   "metadata": {},
   "source": [
    "#### Regular Problem and First Bonus Problem"
   ]
  },
  {
   "cell_type": "code",
   "execution_count": null,
   "metadata": {
    "collapsed": true
   },
   "outputs": [],
   "source": [
    " #Create start time\n",
    "start_time = time.time() \n",
    "string_to_search = 'AE1 Uitsrqp nalkj hufednbaabci2t45678 stunwomnotqryed baEFGaI KLponpqrtrvizyxwwmutseqponm kjihgf!#.?!'\n",
    "\n",
    "##YOUR CODE GOES HERE \n",
    "\n",
    "#Print out the runtime for the function\n",
    "print \"Runtime: %0.2f seconds\" %(time.time() - start_time)"
   ]
  },
  {
   "cell_type": "markdown",
   "metadata": {},
   "source": [
    "#### Second Bonus Problem"
   ]
  },
  {
   "cell_type": "code",
   "execution_count": null,
   "metadata": {
    "collapsed": true
   },
   "outputs": [],
   "source": [
    "#Create start time\n",
    "start_time = time.time()\n",
    "\n",
    "##YOUR CODE GOES HERE\n",
    "    \n",
    "#Print out the runtime for the function\n",
    "print \"Runtime: %0.2f seconds\" %(time.time() - start_time)"
   ]
  }
 ],
 "metadata": {
  "anaconda-cloud": {},
  "celltoolbar": "Edit Metadata",
  "kernelspec": {
   "display_name": "Python [conda root]",
   "language": "python",
   "name": "conda-root-py"
  },
  "language_info": {
   "codemirror_mode": {
    "name": "ipython",
    "version": 2
   },
   "file_extension": ".py",
   "mimetype": "text/x-python",
   "name": "python",
   "nbconvert_exporter": "python",
   "pygments_lexer": "ipython2",
   "version": "2.7.12"
  }
 },
 "nbformat": 4,
 "nbformat_minor": 1
}
