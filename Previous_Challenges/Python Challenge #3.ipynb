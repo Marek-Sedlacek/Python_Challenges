{
 "cells": [
  {
   "cell_type": "markdown",
   "metadata": {},
   "source": [
    "<a style='color:#FF0000'>\n",
    "## Problem </a>\n",
    "#### Why should we bother to learn Python?\n",
    "\n",
    "To find the answer, we’re going to build off the knowledge we needed to best the first two challenges as well as use Modules 4 and 3 of the CodeCademy course, “Functions” and “Conditionals and Control Flow”, respectively.  (_It can also be solved with loops and instead of the print step we could use arrays, but let’s leave that other functionality for future weeks’ challenges._)  Instructions are a little long this week, but please let us know if any questions (and/or if I messed up the question/instructions again!): \n",
    "\n",
    "The string we’re going to be searching is pretty short: '!SekatcMLDdkslsubpkECjfmruaSJFBicnqwzoIuAngoPxYnHG' \n",
    "\n",
    "\n",
    "To find the letters, we’ll need to create/define a function with parameters a, b, c, and d:\n",
    " - The first letter for our answer can be found at the index that is given by the formula: A to the Bth power, divided by C.  \n",
    " - Print that letter out.  \n",
    " - Next, decrease A by 1, increase B by 1, and multiply C times 2.  \n",
    " - Increase D by 1.  (Very very important)\n",
    "\n",
    "Have the function call itself again unless D is greater than or equal to 10.  When you call the function this time, the values to pass it (into parameters a, b, c, and d) are whatever values are currently in a, b, c, and d (in the same order).\n",
    "\n",
    "Call the function for the very first time.  **The parameters to pass it for this first call are 9, 0, 1, and 1.**\n",
    "\n",
    "\n",
    "Once the program runs read the letters that were printed out to find out why it’ll be good to learn Python."
   ]
  },
  {
   "cell_type": "code",
   "execution_count": 1,
   "metadata": {
    "collapsed": false
   },
   "outputs": [
    {
     "name": "stdout",
     "output_type": "stream",
     "text": [
      "!SekatcMLDdkslsubpkECjfmruaSJFBicnqwzoIuAngoPxYnHG\n"
     ]
    }
   ],
   "source": [
    "#STARTER CODE\n",
    "string = '!SekatcMLDdkslsubpkECjfmruaSJFBicnqwzoIuAngoPxYnHG'\n",
    "print string"
   ]
  },
  {
   "cell_type": "markdown",
   "metadata": {},
   "source": [
    "<a style='color:#6698FF'>\n",
    "## Solution </a>"
   ]
  },
  {
   "cell_type": "code",
   "execution_count": null,
   "metadata": {
    "collapsed": true
   },
   "outputs": [],
   "source": [
    "def P3(a, b, c, d):\n",
    "    # YOUR CODE GOES HERE!\n",
    "    \n",
    "P3(9,0,1,1)"
   ]
  }
 ],
 "metadata": {
  "kernelspec": {
   "display_name": "Python [conda root]",
   "language": "python",
   "name": "conda-root-py"
  },
  "language_info": {
   "codemirror_mode": {
    "name": "ipython",
    "version": 2
   },
   "file_extension": ".py",
   "mimetype": "text/x-python",
   "name": "python",
   "nbconvert_exporter": "python",
   "pygments_lexer": "ipython2",
   "version": "2.7.12"
  }
 },
 "nbformat": 4,
 "nbformat_minor": 1
}
